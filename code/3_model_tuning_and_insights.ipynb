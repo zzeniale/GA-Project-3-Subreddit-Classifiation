{
 "cells": [
  {
   "cell_type": "markdown",
   "metadata": {},
   "source": [
    "# Project 3: Subreddit Classification\n",
    "---\n",
    "Project notebook organisation:<br>\n",
    "[1 - Webscraping and Data Acquisition](./1_webscraping_and_data_acquisition)<br>\n",
    "[2 - Exploratory Data Analysis and Preprocessing](./2_exploratory_data_analysis_and_preprocessing.ipynb)<br>\n",
    "**3 - Model Tuning and Insights** (current notebook)<br>\n",
    "<br>\n",
    "<br>"
   ]
  },
  {
   "cell_type": "code",
   "execution_count": 1,
   "metadata": {
    "ExecuteTime": {
     "end_time": "2019-10-23T14:02:37.224559Z",
     "start_time": "2019-10-23T14:02:33.030938Z"
    }
   },
   "outputs": [],
   "source": [
    "import pandas as pd\n",
    "import numpy as np\n",
    "import matplotlib.pyplot as plt\n",
    "from matplotlib_venn import venn2\n",
    "import seaborn as sns\n",
    "import scipy.stats as stats\n",
    "import string\n",
    "import warnings\n",
    "warnings.filterwarnings('ignore')\n",
    "\n",
    "from wordcloud import WordCloud, ImageColorGenerator\n",
    "\n",
    "from sklearn.preprocessing import FunctionTransformer, StandardScaler, RobustScaler, Binarizer\n",
    "from sklearn.feature_extraction.text import CountVectorizer, TfidfVectorizer, TfidfTransformer, ENGLISH_STOP_WORDS\n",
    "from sklearn.feature_selection import SelectPercentile, mutual_info_classif, chi2\n",
    "from sklearn.model_selection import train_test_split, GridSearchCV, KFold, cross_val_score\n",
    "from sklearn.pipeline import Pipeline, FeatureUnion\n",
    "from sklearn.linear_model import LogisticRegression\n",
    "from sklearn.neighbors import KNeighborsClassifier\n",
    "from sklearn.naive_bayes import MultinomialNB\n",
    "from sklearn.decomposition import TruncatedSVD\n",
    "from sklearn.metrics import confusion_matrix\n",
    "\n",
    "import spacy\n",
    "from spacy.lang.en import English\n",
    "from spacy.lang.en.stop_words import STOP_WORDS\n",
    "from spacy.tokens import Doc\n",
    "from nltk.corpus import stopwords\n",
    "import regex as re\n",
    "\n",
    "sns.set_style('ticks')\n",
    "pd.set_option('display.max_columns', None)\n",
    "\n",
    "%matplotlib inline\n",
    "\n",
    "# uncomment the following line if the spacy english model hasn't been installed\n",
    "# !python -m spacy download en"
   ]
  },
  {
   "cell_type": "markdown",
   "metadata": {},
   "source": [
    "## Introduction\n",
    "---"
   ]
  },
  {
   "cell_type": "markdown",
   "metadata": {},
   "source": [
    "In this notebook I will be using the cleaned data from the previous notebook to train and evaluate a model that classify new posts to either r/Singapore or r/Malaysia. I tried different combinations of predictors as well as feature selection techniques for two different models - multinomial Naive Bayes and logistic regression. The models were evaluated based on their accuracy scores on unseen validation data, before the best performing model was used to score the test data.\n",
    "\n",
    "\n",
    "### Contents\n",
    "1. [Data preparation](#Data-preparation)\n",
    "2. [Modelling approach](#Modelling-approach)\n",
    "3. [Model testing](#Model-testing)\n",
    "4. [Production model evaluation](#Production-model-evaluation)\n",
    "5. [Conclusion and recommendations](#Conclusion-and-recommendations)"
   ]
  },
  {
   "cell_type": "markdown",
   "metadata": {},
   "source": [
    "## Data preparation\n",
    "---"
   ]
  },
  {
   "cell_type": "markdown",
   "metadata": {},
   "source": [
    "### Import data"
   ]
  },
  {
   "cell_type": "markdown",
   "metadata": {},
   "source": [
    "The dataframe contains 1861 rows and 12 columns."
   ]
  },
  {
   "cell_type": "code",
   "execution_count": 2,
   "metadata": {
    "ExecuteTime": {
     "end_time": "2019-10-23T14:02:37.333984Z",
     "start_time": "2019-10-23T14:02:37.227198Z"
    }
   },
   "outputs": [
    {
     "data": {
      "text/plain": [
       "(1861, 12)"
      ]
     },
     "execution_count": 2,
     "metadata": {},
     "output_type": "execute_result"
    }
   ],
   "source": [
    "df = pd.read_csv('../data/combined_train.csv', index_col = 0)\n",
    "df.shape"
   ]
  },
  {
   "cell_type": "code",
   "execution_count": 3,
   "metadata": {
    "ExecuteTime": {
     "end_time": "2019-10-23T14:02:37.353889Z",
     "start_time": "2019-10-23T14:02:37.336636Z"
    }
   },
   "outputs": [
    {
     "data": {
      "text/html": [
       "<div>\n",
       "<style scoped>\n",
       "    .dataframe tbody tr th:only-of-type {\n",
       "        vertical-align: middle;\n",
       "    }\n",
       "\n",
       "    .dataframe tbody tr th {\n",
       "        vertical-align: top;\n",
       "    }\n",
       "\n",
       "    .dataframe thead th {\n",
       "        text-align: right;\n",
       "    }\n",
       "</style>\n",
       "<table border=\"1\" class=\"dataframe\">\n",
       "  <thead>\n",
       "    <tr style=\"text-align: right;\">\n",
       "      <th></th>\n",
       "      <th>title</th>\n",
       "      <th>id</th>\n",
       "      <th>date_created</th>\n",
       "      <th>text</th>\n",
       "      <th>score</th>\n",
       "      <th>upvote_ratio</th>\n",
       "      <th>comment_count</th>\n",
       "      <th>comment_all</th>\n",
       "      <th>comment_len</th>\n",
       "      <th>title_len</th>\n",
       "      <th>text_len</th>\n",
       "      <th>subreddit</th>\n",
       "    </tr>\n",
       "  </thead>\n",
       "  <tbody>\n",
       "    <tr>\n",
       "      <td>436</td>\n",
       "      <td>Making medication labels easier for seniors to...</td>\n",
       "      <td>decrd3</td>\n",
       "      <td>2019-10-07 01:38:39</td>\n",
       "      <td>notexthere</td>\n",
       "      <td>8</td>\n",
       "      <td>0.75</td>\n",
       "      <td>6.0</td>\n",
       "      <td>The article seem to suggest they are building ...</td>\n",
       "      <td>1045.0</td>\n",
       "      <td>8</td>\n",
       "      <td>1</td>\n",
       "      <td>1</td>\n",
       "    </tr>\n",
       "    <tr>\n",
       "      <td>191</td>\n",
       "      <td>Hmmm something's wrong here</td>\n",
       "      <td>dgd9v0</td>\n",
       "      <td>2019-10-11 10:36:23</td>\n",
       "      <td>notexthere</td>\n",
       "      <td>1</td>\n",
       "      <td>0.56</td>\n",
       "      <td>10.0</td>\n",
       "      <td>The answer is D. The word 'menghadiahi' has to...</td>\n",
       "      <td>130.0</td>\n",
       "      <td>4</td>\n",
       "      <td>1</td>\n",
       "      <td>0</td>\n",
       "    </tr>\n",
       "    <tr>\n",
       "      <td>536</td>\n",
       "      <td>Prayer not only problem in MGS, segregation al...</td>\n",
       "      <td>dc7brv</td>\n",
       "      <td>2019-10-02 08:22:30</td>\n",
       "      <td>notexthere</td>\n",
       "      <td>6</td>\n",
       "      <td>0.80</td>\n",
       "      <td>7.0</td>\n",
       "      <td>Back then when I was a student, I remember my ...</td>\n",
       "      <td>729.0</td>\n",
       "      <td>11</td>\n",
       "      <td>1</td>\n",
       "      <td>0</td>\n",
       "    </tr>\n",
       "  </tbody>\n",
       "</table>\n",
       "</div>"
      ],
      "text/plain": [
       "                                                 title      id  \\\n",
       "436  Making medication labels easier for seniors to...  decrd3   \n",
       "191                        Hmmm something's wrong here  dgd9v0   \n",
       "536  Prayer not only problem in MGS, segregation al...  dc7brv   \n",
       "\n",
       "            date_created        text  score  upvote_ratio  comment_count  \\\n",
       "436  2019-10-07 01:38:39  notexthere      8          0.75            6.0   \n",
       "191  2019-10-11 10:36:23  notexthere      1          0.56           10.0   \n",
       "536  2019-10-02 08:22:30  notexthere      6          0.80            7.0   \n",
       "\n",
       "                                           comment_all  comment_len  \\\n",
       "436  The article seem to suggest they are building ...       1045.0   \n",
       "191  The answer is D. The word 'menghadiahi' has to...        130.0   \n",
       "536  Back then when I was a student, I remember my ...        729.0   \n",
       "\n",
       "     title_len  text_len  subreddit  \n",
       "436          8         1          1  \n",
       "191          4         1          0  \n",
       "536         11         1          0  "
      ]
     },
     "execution_count": 3,
     "metadata": {},
     "output_type": "execute_result"
    }
   ],
   "source": [
    "df.sample(3)"
   ]
  },
  {
   "cell_type": "markdown",
   "metadata": {},
   "source": [
    "### Train-test-split"
   ]
  },
  {
   "cell_type": "code",
   "execution_count": 4,
   "metadata": {
    "ExecuteTime": {
     "end_time": "2019-10-23T14:02:37.387514Z",
     "start_time": "2019-10-23T14:02:37.356006Z"
    },
    "scrolled": true
   },
   "outputs": [
    {
     "name": "stdout",
     "output_type": "stream",
     "text": [
      "(1302, 11)\n",
      "(1302, 1)\n",
      "(559, 11)\n",
      "(559, 1)\n"
     ]
    }
   ],
   "source": [
    "x = df[[col for col in df.columns if col != 'subreddit']]\n",
    "y = df[['subreddit']]\n",
    "\n",
    "xtrain, xval, ytrain, yval = train_test_split(x, \n",
    "                                              y, \n",
    "                                              test_size = 0.3, \n",
    "                                              random_state = 7, \n",
    "                                              stratify = y)\n",
    "\n",
    "print(xtrain.shape)\n",
    "print(ytrain.shape)\n",
    "print(xval.shape)\n",
    "print(yval.shape)"
   ]
  },
  {
   "cell_type": "markdown",
   "metadata": {},
   "source": [
    "### Tokenisation"
   ]
  },
  {
   "cell_type": "markdown",
   "metadata": {},
   "source": [
    "As the default `spaCy` tokeniser doesn't tokenise on some apostrophes, here I defined a custom tokeniser that tokenises on all punctuations as well as spaces."
   ]
  },
  {
   "cell_type": "code",
   "execution_count": 5,
   "metadata": {
    "ExecuteTime": {
     "end_time": "2019-10-23T14:02:37.397599Z",
     "start_time": "2019-10-23T14:02:37.391414Z"
    }
   },
   "outputs": [],
   "source": [
    "class PunctuationTokenizer(object):\n",
    "    def __init__(self, vocab):\n",
    "        self.vocab = vocab\n",
    "\n",
    "    def __call__(self, text):\n",
    "        words = [i for i in re.split('\\W+', text) if i != '']\n",
    "        spaces = [True] * len(words)\n",
    "        return Doc(self.vocab, words=words, spaces=spaces)"
   ]
  },
  {
   "cell_type": "markdown",
   "metadata": {},
   "source": [
    "### Normalisation"
   ]
  },
  {
   "cell_type": "markdown",
   "metadata": {},
   "source": [
    "The process of text normalisation aim to reduce the amount of noise in the data, through the removal of cases, punctuations, stopwords, and changing word constructions. It therefore can also be considered a preliminary form of feature selection (which will be further explored in a [later section](#Feature-selection). As I will be using frequency-based word embedding methods (which remove most of the context) in this project, the removal of features such as capitalisations, past tense, quantifiers etc would not result in the loss of much information.\n",
    "\n",
    "Lemmatisation and stemming are both methods that try to bring inflated words to the same form, a process that reduces some noise in the data (e.g., from counting _run_, _ran_, and _running_ all as different words). The difference in these two processes is that stemming is a rather crude heuristic process that chop off the end of a word, while lemmatisation always results in a dictionary word. The advantage of stemming, however, lies in its speed. Therefore, as processing speed is not a concern in this case due to the small size of the working corpus, lemmatisation will be used.\n",
    "\n",
    "As `Sklearn`'s vectorisers by default do not lemmatise, I defined a custom tokeniser using `spaCy`'s lemmatiser in combination with the `PunctuationTokenizer` specified above."
   ]
  },
  {
   "cell_type": "code",
   "execution_count": 6,
   "metadata": {
    "ExecuteTime": {
     "end_time": "2019-10-23T14:02:38.289555Z",
     "start_time": "2019-10-23T14:02:37.399617Z"
    }
   },
   "outputs": [],
   "source": [
    "nlp = spacy.load('en')\n",
    "nlp.tokenizer = PunctuationTokenizer(nlp.vocab)\n",
    "    \n",
    "# create spacy tokenizer with lemmatisation\n",
    "def spacy_tokenizer(sentence):\n",
    "    # load the basic spacy english model and define the tokenizer\n",
    "\n",
    "    # tokenise each sentence using the tokeniser defined above\n",
    "    tokens = nlp(sentence)\n",
    "    \n",
    "    # lemmatise each word \n",
    "    tokens = [token.lemma_.lower().strip() for token in tokens if len(token.text) > 1 ]  \n",
    "    \n",
    "    return tokens"
   ]
  },
  {
   "cell_type": "markdown",
   "metadata": {},
   "source": [
    "### Customise stopwords"
   ]
  },
  {
   "cell_type": "markdown",
   "metadata": {},
   "source": [
    "The goal of stopwords are to remove frequently-occurring words that are presumed to be less informative to the meaning of the documents and therefore have no value in helping to select documents, such as _the_, _and_, _to_, etc ([Manning et al., 2008](https://nlp.stanford.edu/IR-book/html/htmledition/dropping-common-terms-stop-words-1.html)).\n",
    "\n",
    "When using the default stopwords offered by various python libraries such as those from `sklearn`, `NLTK`, and `spaCy`, we make the assumption that all the words in these lists commonly occur in the corpora we are studying, while most of the time we may not have a high enough level of understanding of our corpus to justify the exclusion of all of the words. The default `sklearn` stopword list, for example, contains 318 words which include words like _hundred_, _system_, and _serious_, which might have been important in this use case but would have otherewise been lost if we had just used the default stopwords list. Even words commonly included on stopword lists may be important in certain applications (e.g. the famous quote 'to be or not to be' from Shakespeare's Hamlet consists entirely of stopwords). The lengths of various stopword lists can vary significantly, with 1396 (67.6%) of the words appearing in only less than 10% of lists ([Nothman et al., 2018](https://www.aclweb.org/anthology/W18-2502.pdf)). If they are all so different, the question, then, is which stopword list to use, and in which situation?\n",
    "\n",
    "A recommended approach (by [Manning et al., 2008](https://nlp.stanford.edu/IR-book/html/htmledition/dropping-common-terms-stop-words-1.html)) suggests doing away with stopword lists altogether, and instead using statistics of language to better deal with common words during analysis. Another approach (explored in [Lo et al., 2005](http://terrierteam.dcs.gla.ac.uk/publications/rtlo_DIRpaper.pdf)) showed good results when combining a small, existing stopword list (e.g. Fox's stopword list or the even smaller `NLTK` stopword list) with a customised list for a specific corpora, which is obtained by filtering out the most common words using frequency-based methods, such as tf-idf.\n",
    "\n",
    "The latter approach was used for this project, mainly for ease and simplicity compared to the first approach. This will form the basis upon which further feature selection will be conducted, as elaborated in the [next section](#Feature-selection). As also shown in the [preliminary EDA](#Most-common-words) notebook, some unique stopwords need to be added, such as _Singapore_ and _Malaysia_."
   ]
  },
  {
   "cell_type": "code",
   "execution_count": 7,
   "metadata": {
    "ExecuteTime": {
     "end_time": "2019-10-23T14:02:38.297956Z",
     "start_time": "2019-10-23T14:02:38.291215Z"
    }
   },
   "outputs": [],
   "source": [
    "# the default NLTK stopword list\n",
    "stop_words = set(stopwords.words('english'))  \n",
    "\n",
    "# add additional stopwords\n",
    "additional_stopwords = {'notexthere','singapore','malaysia','singaporean','malaysian','pore','spore',\\\n",
    "                        'sia', 'msia','malay', 'malays', 'singaporeans','malaysians', 'sg', '-pron-'}\n",
    "stop_words = stop_words.union(additional_stopwords)"
   ]
  },
  {
   "cell_type": "markdown",
   "metadata": {},
   "source": [
    "## Modelling approach\n",
    "---"
   ]
  },
  {
   "cell_type": "markdown",
   "metadata": {},
   "source": [
    "This section explains the rationale behind the column selection, feature selection, and preprocessing methods employed in the [model testing section](#Model-testing)."
   ]
  },
  {
   "cell_type": "markdown",
   "metadata": {},
   "source": [
    "### Column selection"
   ]
  },
  {
   "cell_type": "markdown",
   "metadata": {},
   "source": [
    "There were 11 columns in the original dataframe (not counting the `subreddit` column, which contains the subreddit ID). Of these, the following contains text:\n",
    "- `title`\n",
    "- `text`\n",
    "- `comment_all`\n",
    "- `id`\n",
    "\n",
    "And the following contains numeric data:\n",
    "- `date_created`\n",
    "- `score`\n",
    "- `upvote_ratio`\n",
    "- `comment_count`\n",
    "- `comment_len`\n",
    "- `title_len`\n",
    "- `text_len`\n",
    "\n",
    "Among these, the columns most likely to be relevant in answering the problem statement (whether or not a new post can be correctly classified into r/Singapore or r/Malaysia based on its content) are:\n",
    "- `title`\n",
    "- `text`\n",
    "- `title_len`\n",
    "- `text_len`\n",
    "\n",
    "The rest of the columns would not be used as things like `upvote_ratio` and `comment_len` would not be present at the time a post is first made. Additionally, as the lengths of titles from both subreddits are very similar, `title_len` is not likely to make a difference, and would also not be used. Therefore, the columns that will be used in the [model testing section](#Model-testing) will be `title`, `text`, and `text_len`."
   ]
  },
  {
   "cell_type": "markdown",
   "metadata": {},
   "source": [
    "### Feature selection"
   ]
  },
  {
   "cell_type": "markdown",
   "metadata": {},
   "source": [
    "For certain models, prior feature selection can help improve model performance by enhancing signals and reducing noise in the dataset. This is especially relevant for models used for NLP tasks that utilise the bag-of-words (BOW) approach (i.e. in the word-frequency based models used for this project). This approach assumes relative independence between words as very little context is captured. Therefore, each individual word can be thought of as a predictor variable for the target (in this case, the subreddit class). Vectorisation effectively creates a predictor out of every word, producing as many predictor variables as there are number of words in the corpus. This dramatically increases the dimensionality of the feature space, and data and any relevant signals therefore become sparse - hence the need for dimension reduction and feature selection. \n",
    "\n",
    "There are three general classes of feature selection methods - wrapper methods, filter methods, and embedded methods. Wrapper methods involve putting different combinations of features into a model, and selecting the features that give the best model performance. Embedded methods are techniques/models that inherently selects for a best subset of features, such as lasso regression. Filter methods, on the other hand, do not look at model performance, but rather use statistical characteristics of the input data to carry out feature selection.\n",
    "\n",
    "For this project, a basic, manual wrapper method will first be applied to the dataframe, to select for combinations of columns that will produce the best results (e.g. using only titles to predict, using only posts to predict, or using both titles and posts to predict). Filter methods will then be used to filter out excess words within these columns after vectorisation. The stopwords mentioned above form a basis upon which additional words will be removed, based on:\n",
    "- Mutual information\n",
    "- Chi<sup>2</sup>\n",
    "- Frequency\n",
    "\n",
    "It is recommended that keeping 1-10% of the top scoring terms is sufficient and can increase classification accuracy. For all methods, a range of 1-3 n-grams will be used in order to preserve some context (tri-grams are included as some entity names are tri-syllabic). "
   ]
  },
  {
   "cell_type": "markdown",
   "metadata": {},
   "source": [
    "#### Mutual Information"
   ]
  },
  {
   "cell_type": "markdown",
   "metadata": {},
   "source": [
    "The mutual information (MI) score shows the contribution of each term to class distinctions. It measures how much the presence/absence of a term contributes to making the correct classification ([Manning et al., 2008](https://nlp.stanford.edu/IR-book/html/htmledition/mutual-information-1.html)). MI is zero if two variables are independent, and higher values mean higher dependency.\n",
    "\n",
    "The lists below show the words with the highest MI scores in titles and posts. "
   ]
  },
  {
   "cell_type": "code",
   "execution_count": 8,
   "metadata": {
    "ExecuteTime": {
     "end_time": "2019-10-23T14:04:33.629052Z",
     "start_time": "2019-10-23T14:02:38.301023Z"
    },
    "scrolled": true
   },
   "outputs": [
    {
     "name": "stdout",
     "output_type": "stream",
     "text": [
      "MI for words in title:\n",
      "kl           0.012156\n",
      "mahathir     0.010020\n",
      "dr           0.008955\n",
      "nus          0.008768\n",
      "sabah        0.006833\n",
      "man          0.006348\n",
      "penang       0.005775\n",
      "dap          0.005247\n",
      "yale         0.004912\n",
      "pmd          0.004912\n",
      "jail         0.004368\n",
      "ns           0.004364\n",
      "najib        0.004193\n",
      "melayu       0.004193\n",
      "sarawak      0.004193\n",
      "selangor     0.004193\n",
      "ltte         0.004193\n",
      "yale nus     0.003816\n",
      "look like    0.003816\n",
      "budget       0.003667\n",
      "Name: 0, dtype: float64\n",
      "MI for words in posts:\n",
      "anyone     0.009770\n",
      "think      0.008257\n",
      "like       0.007780\n",
      "say        0.007131\n",
      "know       0.007080\n",
      "kl         0.006833\n",
      "one        0.006832\n",
      "reach      0.006561\n",
      "ns         0.006561\n",
      "find       0.006512\n",
      "edit       0.006329\n",
      "call       0.006250\n",
      "feel       0.006155\n",
      "whether    0.006011\n",
      "try        0.005964\n",
      "make       0.005911\n",
      "people     0.005849\n",
      "time       0.005790\n",
      "get        0.005637\n",
      "even       0.005490\n",
      "Name: 0, dtype: float64\n"
     ]
    }
   ],
   "source": [
    "# instantiating a CountVectorizer instance to tokenize and onehot all words \n",
    "cvec = CountVectorizer(tokenizer = spacy_tokenizer, stop_words = stop_words, ngram_range=(1,3))\n",
    "\n",
    "# obtain MI scores for words in titles\n",
    "title_vec = cvec.fit_transform(xtrain.title)\n",
    "mi_title = mutual_info_classif(title_vec, ytrain)                      # calculate MI\n",
    "mi_title = pd.DataFrame(mi_title, index = cvec.get_feature_names())    # put scores into dataframe\n",
    "print('MI for words in title:')\n",
    "print(mi_title[0].sort_values(ascending=False).head(20))               # view top 20 features\n",
    "\n",
    "# obtain MI scores for words in posts\n",
    "post_vec = cvec.fit_transform(xtrain.text)\n",
    "mi_post = mutual_info_classif(post_vec, ytrain)                        # calculate MI\n",
    "mi_post = pd.DataFrame(mi_post, index = cvec.get_feature_names())      # put scores into dataframe\n",
    "print('MI for words in posts:')\n",
    "print(mi_post[0].sort_values(ascending=False).head(20))                # view top 20 features"
   ]
  },
  {
   "cell_type": "markdown",
   "metadata": {},
   "source": [
    "#### Chi<sup>2</sup>"
   ]
  },
  {
   "cell_type": "markdown",
   "metadata": {},
   "source": [
    "The chi-squared statistic statistic is a measure of dependence between two variables. Features with low chi-squared statistic are more likely to be less important as a predictor and more likely to be irrelevant for classification.\n",
    "\n",
    "While the most significant words (with the lowest chi-squared p-values) for post titles looked rather similar to those obtained from MI, the list of words from posts were quite different, and looked like they could be more informative of class."
   ]
  },
  {
   "cell_type": "code",
   "execution_count": 9,
   "metadata": {
    "ExecuteTime": {
     "end_time": "2019-10-23T14:05:13.957571Z",
     "start_time": "2019-10-23T14:04:33.633214Z"
    },
    "scrolled": true
   },
   "outputs": [
    {
     "name": "stdout",
     "output_type": "stream",
     "text": [
      "Chi2 for words in title:\n",
      "kl          0.000002\n",
      "mahathir    0.000010\n",
      "dr          0.000048\n",
      "nus         0.000050\n",
      "man         0.000119\n",
      "sabah       0.000376\n",
      "dap         0.001071\n",
      "penang      0.001071\n",
      "jail        0.001929\n",
      "yale        0.002352\n",
      "pmd         0.002352\n",
      "melayu      0.003088\n",
      "najib       0.003088\n",
      "like        0.003436\n",
      "use         0.003498\n",
      "ns          0.004133\n",
      "india       0.004524\n",
      "selangor    0.005277\n",
      "ltte        0.005277\n",
      "sarawak     0.005277\n",
      "Name: pval, dtype: float64\n",
      "Chi2 for words in posts:\n",
      "feel        1.164392e-08\n",
      "think       1.830188e-08\n",
      "377a        2.340853e-07\n",
      "case        5.349183e-07\n",
      "anyone      6.207305e-07\n",
      "kl          8.166458e-07\n",
      "time        1.683093e-06\n",
      "find        3.198731e-06\n",
      "ns          3.378214e-06\n",
      "know        4.268862e-06\n",
      "psle        5.776854e-06\n",
      "always      9.584912e-06\n",
      "month       1.004386e-05\n",
      "student     1.523405e-05\n",
      "last        2.735115e-05\n",
      "make        2.942993e-05\n",
      "question    3.002718e-05\n",
      "edit        4.315014e-05\n",
      "end         7.257818e-05\n",
      "line        7.472810e-05\n",
      "Name: pval, dtype: float64\n"
     ]
    }
   ],
   "source": [
    "# obtain chi2 scores for words in titles\n",
    "title_vec = cvec.fit_transform(xtrain.title)\n",
    "chisq_title = chi2(title_vec, ytrain)                              # calculate chi2\n",
    "chisq_title = pd.DataFrame(chisq_title,                            # put scores into dataframe\n",
    "                           columns = cvec.get_feature_names(),\n",
    "                           index = ['chi2','pval']).T\n",
    "print('Chi2 for words in title:')\n",
    "print(chisq_title['pval'].sort_values().head(20))                  # view top 20 features (by p-value)\n",
    "\n",
    "# obtain chi2 scores for words in posts\n",
    "post_vec = cvec.fit_transform(xtrain.text)\n",
    "chisq_posts = chi2(post_vec, ytrain)                               # calculate chi2\n",
    "chisq_posts = pd.DataFrame(chisq_posts,                            # put scores into dataframe\n",
    "                           columns = cvec.get_feature_names(),\n",
    "                           index = ['chi2','pval']).T    \n",
    "print('Chi2 for words in posts:')\n",
    "print(chisq_posts['pval'].sort_values().head(20))                  # view top 20 features (by p-value)"
   ]
  },
  {
   "cell_type": "markdown",
   "metadata": {},
   "source": [
    "#### Frequency-based"
   ]
  },
  {
   "cell_type": "markdown",
   "metadata": {},
   "source": [
    "Frequency-based feature selection eliminates terms that common between classes (those with high document frequencies), and selects for terms that are common within the class. This is one of the methods for the construction of stopword lists ([Nothman et al., 2018](https://www.aclweb.org/anthology/W18-2502.pdf)). \n",
    "\n",
    "In `sklearn`, this limit can be set directly under the `max_df` parameter in `TfidfVectorizer`. This will be set to 0.05 and 0.1 in the [model testing section](#Model-testing) later on, meaning that only words appearing in < 5% and < 10% of the documents will be used. The `min_df` will not be set for this project due to the small sample size."
   ]
  },
  {
   "cell_type": "markdown",
   "metadata": {},
   "source": [
    "### Preprocessing"
   ]
  },
  {
   "cell_type": "markdown",
   "metadata": {},
   "source": [
    "#### One-hot encoding/binarising"
   ]
  },
  {
   "cell_type": "markdown",
   "metadata": {},
   "source": [
    "One-hot encoding in this case refers to the process of binarising text, i.e. making each index with a value of 1 if the word exists or 0 if it does not. This further simplifies the dataset, such that the model is classifying based on whether or not the presence/absence of a certain word can influence classification results. It has been shown to be effective for very small documents such as tweets that don't contain many repeated words ([Ojeda et al., 2018](https://www.oreilly.com/library/view/applied-text-analysis/9781491963036/ch04.html)), and so may be effective for this dataset as well, specifically for post titles which are quite short.\n",
    "\n",
    "As `sklearn`'s `Binarizer` requires numeric data, it is done after vectorisation. Feature selection will also be done first to ensure only important words are binarised. "
   ]
  },
  {
   "cell_type": "markdown",
   "metadata": {},
   "source": [
    "#### Scaling"
   ]
  },
  {
   "cell_type": "markdown",
   "metadata": {},
   "source": [
    "The `RobustScaler` was used to transform `text_len` due to the large number of outliers."
   ]
  },
  {
   "cell_type": "markdown",
   "metadata": {},
   "source": [
    "## Model testing\n",
    "---"
   ]
  },
  {
   "cell_type": "markdown",
   "metadata": {},
   "source": [
    "As there are equal occurrences of posts from both subreddits (i.e. there is no class imbalance), the classification metric used will be **accuracy** - a measure of the proportion of true predictions over all predictions ($\\frac {TP + TN}{TP + TN + FP + FN}$). Furthermore, the classification threshold is also exactly 50%, as there is no advantage or disadvantage of wrongly classifying any of these subreddits.\n",
    "\n",
    "Two models were tested: 1) **multinomial Naive Bayes**, which is a good baseline model for text classifications, and 2) **logistic regression**, using the following combination of preprocessing methods in the gridsearch `param_grid` (Fig 1):\n",
    "- `vectorizer`: count vectoriser, or tf-idf vectoriser\n",
    "- `max_df`: 0.05 or 0.1 (5% or 10%) - used for feature selection\n",
    "- feature selection (`reducer`): no feature selection, top 10 percentile based on mutual information, or top 10 percentile based on chi2\n",
    "- `binarizer`: no binariser, or with binariser\n",
    "<img src='../graphics/workflow_summary.png' width=600 align=center><br>\n",
    "<center><font size=2 color='grey'>(Fig 1. Summary of preprocessing and modeling workflow.)</font></center>\n",
    "\n",
    "Due to limitations in computational power and time and the intensity with which gridsearch utilises both of these, I have had to restrict the number of test parameters as well as the cross-validation folds (to 2 folds). Ideally, I would have used 3-5 folds, and also included other parameters for fine-tuning, such as `min_df` of vectorisers, `penalty` of `LogisticRegression`, `percentile` of `SelectPercentile`, and included one more model.\n",
    "\n",
    "In all the models tested, overfitting remained an issue despite feature selection. The model results are summarised in the table and graph below. A multinomial Naive Bayes model predicting on title and post lengths (with samples from r/Singpore restricted to those with titles > 15 words) had the best performance, with 86% accuracy. However, as [further explained below](#Excluding-very-short-titles-in-r/Singapore), this model would not generalise well. Therefore, model 4 was selected as the production mode.\n",
    "\n",
    "\n",
    "|No.|Predictor|Model|Train accuracy|Validation accuracy|\n",
    "|--|--|--|--|--|\n",
    "|1|Baseline                                       |Most frequent      |0.507|0.507\n",
    "|2|Title                                          |Multinomial NB     |0.994|0.714|\n",
    "|3|Posts                                          |Logistic regression|0.674|0.580|\n",
    "|<font color='red'>4|<font color='red'>Title + post lengths|<font color='red'>Multinomial NB|<font color='red'>0.931|<font color='red'>0.730|\n",
    "|5|Title (>5 words) + post lengths                |Multinomial NB     | 0.930 | 0.688\n",
    "|6|Title (>5 words in r/Singapore) + post lengths |Multinomial NB     | 0.924 | 0.665\n",
    "|7|Title (>10 words in r/Singapore) + post lengths|Multinomial NB     | 0.971 | 0.773\n",
    "|8|Title (>15 words in r/Singapore) + post lengths|Multinomial NB     | 0.987 | 0.864\n",
    "\n",
    "<img src='../graphics/model_performance.png' width=700 align=center>"
   ]
  },
  {
   "cell_type": "markdown",
   "metadata": {},
   "source": [
    "### Baseline accuracy"
   ]
  },
  {
   "cell_type": "markdown",
   "metadata": {},
   "source": [
    "The baseline model would predict class 0 (r/Malaysia) for all posts, since it has a slightly higher percentage (50.7%). And it would be accurate about half the time (accuracy score = 0.507)."
   ]
  },
  {
   "cell_type": "code",
   "execution_count": 10,
   "metadata": {
    "ExecuteTime": {
     "end_time": "2019-10-23T14:05:13.981785Z",
     "start_time": "2019-10-23T14:05:13.959374Z"
    }
   },
   "outputs": [
    {
     "data": {
      "text/plain": [
       "0    0.506912\n",
       "1    0.493088\n",
       "Name: subreddit, dtype: float64"
      ]
     },
     "execution_count": 10,
     "metadata": {},
     "output_type": "execute_result"
    }
   ],
   "source": [
    "ytrain.subreddit.value_counts(normalize=True)"
   ]
  },
  {
   "cell_type": "code",
   "execution_count": 11,
   "metadata": {
    "ExecuteTime": {
     "end_time": "2019-10-23T14:05:13.987142Z",
     "start_time": "2019-10-23T14:05:13.983517Z"
    }
   },
   "outputs": [
    {
     "name": "stdout",
     "output_type": "stream",
     "text": [
      "baseline accuracy: 0.506912\n"
     ]
    }
   ],
   "source": [
    "print(f'baseline accuracy: {0.506912/(0.493088 + 0.506912)}')"
   ]
  },
  {
   "cell_type": "markdown",
   "metadata": {},
   "source": [
    "### Title content as predictor"
   ]
  },
  {
   "cell_type": "markdown",
   "metadata": {},
   "source": [
    "Using just the title to predict subreddit category yielded reasonable test accuracy that was a big improvement from the baseline accuracy, despite overfitting. Most of the inaccuracies are from posts in r/Singapore being misclassified to r/Malaysia (false positives), according to the confusion matrix below. \n",
    "\n",
    "|No.|Predictor|Train accuracy|Validation accuracy|\n",
    "|--|--|--|--|\n",
    "|1|Baseline|0.507|0.507|\n",
    "|2|Title|0.994|0.714|\n",
    "\n",
    "This was achieved using the following preprocessing steps and model (as shown in the best gridsearch parameters below). The gridsearch for all the model combinations took 37.4 minutes to run.\n",
    "- using only words in less than 5% of the documents (with `CountVectorizer`)\n",
    "- classifying using mono-, bi- and tri-grams\n",
    "- multinomial Naive Bayes model"
   ]
  },
  {
   "cell_type": "code",
   "execution_count": 12,
   "metadata": {
    "ExecuteTime": {
     "end_time": "2019-10-23T14:43:08.356979Z",
     "start_time": "2019-10-23T14:05:13.989046Z"
    },
    "scrolled": false
   },
   "outputs": [
    {
     "name": "stdout",
     "output_type": "stream",
     "text": [
      "Fitting 2 folds for each of 72 candidates, totalling 144 fits\n"
     ]
    },
    {
     "name": "stderr",
     "output_type": "stream",
     "text": [
      "[Parallel(n_jobs=1)]: Using backend SequentialBackend with 1 concurrent workers.\n",
      "[Parallel(n_jobs=1)]: Done 144 out of 144 | elapsed: 37.4min finished\n"
     ]
    },
    {
     "name": "stdout",
     "output_type": "stream",
     "text": [
      "train accuracy: 0.9946236559139785\n",
      "validation set accuracy: 0.7137745974955277\n",
      "{'binarizer': None, 'classifier': MultinomialNB(alpha=1.0, class_prior=None, fit_prior=True), 'reducer': None, 'vectorizer': CountVectorizer(analyzer='word', binary=False, decode_error='strict',\n",
      "                dtype=<class 'numpy.int64'>, encoding='utf-8', input='content',\n",
      "                lowercase=True, max_df=0.05, max_features=None, min_df=1,\n",
      "                ngram_range=(1, 3), preprocessor=None,\n",
      "                stop_words={'-pron-', 'a', 'about', 'above', 'after', 'again',\n",
      "                            'against', 'ain', 'all', 'am', 'an', 'and', 'any',\n",
      "                            'are', 'aren', \"aren't\", 'as', 'at', 'be',\n",
      "                            'because', 'been', 'before', 'being', 'below',\n",
      "                            'between', 'both', 'but', 'by', 'can', 'couldn', ...},\n",
      "                strip_accents=None, token_pattern='(?u)\\\\b\\\\w\\\\w+\\\\b',\n",
      "                tokenizer=<function spacy_tokenizer at 0x1a24381200>,\n",
      "                vocabulary=None), 'vectorizer__max_df': 0.05}\n"
     ]
    }
   ],
   "source": [
    "# create pipeline\n",
    "pl = Pipeline([\n",
    "    # select the 'title' column\n",
    "    ('selector', FunctionTransformer(lambda x:x['title'], validate=False)),  \n",
    "    # vectorizers (and all pipeline steps below) will be specified in the param_grid\n",
    "    ('vectorizer', None),                                                   \n",
    "    ('reducer', None),\n",
    "    ('binarizer', None),\n",
    "    ('classifier', None)\n",
    "])\n",
    "\n",
    "# specify the param grid for gridsearch, which includes different feature selection methods\n",
    "param_grid = [{\n",
    "        # vectorisers to try: count vectoriser, tf-idf vectoriser\n",
    "        'vectorizer': [CountVectorizer(tokenizer = spacy_tokenizer, stop_words = stop_words, ngram_range = (1,3)),\n",
    "                       TfidfVectorizer(tokenizer = spacy_tokenizer, stop_words = stop_words, ngram_range = (1,3))],\n",
    "        # feature selection by max df\n",
    "        'vectorizer__max_df': [1, 0.05, 0.1],\n",
    "        # feature selection by mutual information, chi2, and tf-idf (when none)\n",
    "        'reducer': [None, \n",
    "                    SelectPercentile(mutual_info_classif), \n",
    "                    SelectPercentile(chi2)],\n",
    "        # to binarise or not to binarise\n",
    "        'binarizer': [None,\n",
    "                     Binarizer()],\n",
    "        # models to test: multinomial Naive Bayes and logistic regression\n",
    "        'classifier': [MultinomialNB(), LogisticRegression()]\n",
    "    }]\n",
    "\n",
    "# use kfold for cv to allow shuffling\n",
    "kf = KFold(n_splits = 2, shuffle = True, random_state = 7)\n",
    "\n",
    "# perform gridsearch for the best feature selection, model, etc\n",
    "gs_title = GridSearchCV(pl, cv=kf, param_grid=param_grid, scoring = 'accuracy', iid=False, verbose=True)\n",
    "gs_title.fit(xtrain, ytrain)\n",
    "ypred_title = gs_title.predict(xval)\n",
    "\n",
    "# call .score on the gs object to use the best parameters found during gridsearch to evaluate train and val \n",
    "print('train accuracy:', gs_title.score(xtrain, ytrain))\n",
    "print('validation set accuracy:', gs_title.score(xval, yval))\n",
    "print(gs_title.best_params_)"
   ]
  },
  {
   "cell_type": "code",
   "execution_count": 13,
   "metadata": {
    "ExecuteTime": {
     "end_time": "2019-10-23T14:43:08.376021Z",
     "start_time": "2019-10-23T14:43:08.360045Z"
    }
   },
   "outputs": [
    {
     "name": "stdout",
     "output_type": "stream",
     "text": [
      "Confusion matrix (title content as predictor):\n"
     ]
    },
    {
     "data": {
      "text/html": [
       "<div>\n",
       "<style scoped>\n",
       "    .dataframe tbody tr th:only-of-type {\n",
       "        vertical-align: middle;\n",
       "    }\n",
       "\n",
       "    .dataframe tbody tr th {\n",
       "        vertical-align: top;\n",
       "    }\n",
       "\n",
       "    .dataframe thead th {\n",
       "        text-align: right;\n",
       "    }\n",
       "</style>\n",
       "<table border=\"1\" class=\"dataframe\">\n",
       "  <thead>\n",
       "    <tr style=\"text-align: right;\">\n",
       "      <th></th>\n",
       "      <th>predicted r/sg</th>\n",
       "      <th>predicted r/msia</th>\n",
       "    </tr>\n",
       "  </thead>\n",
       "  <tbody>\n",
       "    <tr>\n",
       "      <td>actual r/sg</td>\n",
       "      <td>180</td>\n",
       "      <td>103</td>\n",
       "    </tr>\n",
       "    <tr>\n",
       "      <td>actual r/msia</td>\n",
       "      <td>57</td>\n",
       "      <td>219</td>\n",
       "    </tr>\n",
       "  </tbody>\n",
       "</table>\n",
       "</div>"
      ],
      "text/plain": [
       "               predicted r/sg  predicted r/msia\n",
       "actual r/sg               180               103\n",
       "actual r/msia              57               219"
      ]
     },
     "execution_count": 13,
     "metadata": {},
     "output_type": "execute_result"
    }
   ],
   "source": [
    "# print confusion matrix\n",
    "cmatrix = confusion_matrix(yval, ypred_title)\n",
    "print(\"Confusion matrix (title content as predictor):\")\n",
    "pd.DataFrame(cmatrix, \n",
    "             index = ['actual r/sg','actual r/msia'],\n",
    "             columns = ['predicted r/sg', 'predicted r/msia'])\n",
    "# tn, fp, \n",
    "# fn, tp"
   ]
  },
  {
   "cell_type": "markdown",
   "metadata": {},
   "source": [
    "### Post content as predictor"
   ]
  },
  {
   "cell_type": "markdown",
   "metadata": {},
   "source": [
    "As mentioned in the [previous notebook](./2_exploratory_data_analysis_and_preprocessing.ipynb), most of the posts from the two subreddits do not contain texts as content. However, the texts in the small amount of posts that do contain them may still be discriminative. However, model results seem to indicate otherwise. Posts are a poor predictor of subreddit, and their results are not much better than baseline. The confusion matrix below shows that most of the misclassifications are false negatives, meaning that posts actually from r/Malaysia were being classified as r/Singapore. r/Malaysia had much fewer posts that actually contained text. Therefore the model inaccuracies are likely mostly due to the lack of vocabulary it received from r/Malaysia's posts.\n",
    "\n",
    "|No.|Predictor|Train accuracy|Validation accuracy|\n",
    "|--|--|--|--|\n",
    "|1|Baseline|0.507|0.507\n",
    "|2|Title|0.994|0.714|\n",
    "|3|Posts|0.674|0.580|\n",
    "\n",
    "\n",
    "This was achieved using the following preprocessing steps and model (as shown in the best gridsearch parameters below). The gridsearch for all model combinations took 59.8 minutes to run.\n",
    "- using only words in less than 10% of the documents (with `TfidfVectorizer`)\n",
    "- classifying using mono-, bi- and tri-grams\n",
    "- logistic regression model with the l2 penalty"
   ]
  },
  {
   "cell_type": "code",
   "execution_count": 14,
   "metadata": {
    "ExecuteTime": {
     "end_time": "2019-10-23T15:43:41.563246Z",
     "start_time": "2019-10-23T14:43:08.378335Z"
    },
    "scrolled": false
   },
   "outputs": [
    {
     "name": "stdout",
     "output_type": "stream",
     "text": [
      "Fitting 2 folds for each of 72 candidates, totalling 144 fits\n"
     ]
    },
    {
     "name": "stderr",
     "output_type": "stream",
     "text": [
      "[Parallel(n_jobs=1)]: Using backend SequentialBackend with 1 concurrent workers.\n",
      "[Parallel(n_jobs=1)]: Done 144 out of 144 | elapsed: 59.8min finished\n"
     ]
    },
    {
     "name": "stdout",
     "output_type": "stream",
     "text": [
      "train accuracy: 0.67357910906298\n",
      "validation set accuracy: 0.5796064400715564\n",
      "{'binarizer': None, 'classifier': LogisticRegression(C=1.0, class_weight=None, dual=False, fit_intercept=True,\n",
      "                   intercept_scaling=1, l1_ratio=None, max_iter=100,\n",
      "                   multi_class='warn', n_jobs=None, penalty='l2',\n",
      "                   random_state=None, solver='warn', tol=0.0001, verbose=0,\n",
      "                   warm_start=False), 'reducer': None, 'vectorizer': TfidfVectorizer(analyzer='word', binary=False, decode_error='strict',\n",
      "                dtype=<class 'numpy.float64'>, encoding='utf-8',\n",
      "                input='content', lowercase=True, max_df=0.1, max_features=None,\n",
      "                min_df=1, ngram_range=(1, 3), norm='l2', preprocessor=None,\n",
      "                smooth_idf=True,\n",
      "                stop_words={'-pron-', 'a', 'about', 'above', 'after', 'again',\n",
      "                            'against', 'ain', 'all', 'am', 'an', 'and', 'any',\n",
      "                            'are', 'aren', \"aren't\", 'as', 'at', 'be',\n",
      "                            'because', 'been', 'before', 'being', 'below',\n",
      "                            'between', 'both', 'but', 'by', 'can', 'couldn', ...},\n",
      "                strip_accents=None, sublinear_tf=False,\n",
      "                token_pattern='(?u)\\\\b\\\\w\\\\w+\\\\b',\n",
      "                tokenizer=<function spacy_tokenizer at 0x1a24381200>,\n",
      "                use_idf=True, vocabulary=None), 'vectorizer__max_df': 0.1}\n"
     ]
    }
   ],
   "source": [
    "pl = Pipeline([\n",
    "    # select the 'text' column, containing posts\n",
    "    ('selector', FunctionTransformer(lambda x:x['text'], validate=False)),\n",
    "    ('vectorizer', None),\n",
    "    ('reducer', None),\n",
    "    ('binarizer', None),\n",
    "    ('classifier', None)\n",
    "])\n",
    "\n",
    "param_grid = [{\n",
    "        'vectorizer': [CountVectorizer(tokenizer = spacy_tokenizer, stop_words = stop_words,ngram_range = (1,3)),\n",
    "                       TfidfVectorizer(tokenizer = spacy_tokenizer, stop_words = stop_words,ngram_range = (1,3))],\n",
    "        'vectorizer__max_df': [1, 0.05, 0.1],\n",
    "        'reducer': [None, \n",
    "                    SelectPercentile(mutual_info_classif), \n",
    "                    SelectPercentile(chi2)],\n",
    "        'binarizer': [None,\n",
    "                     Binarizer()],\n",
    "        'classifier': [MultinomialNB(), LogisticRegression()]\n",
    "    }]\n",
    "\n",
    "gs_post = GridSearchCV(pl, cv=kf, param_grid=param_grid, scoring = 'accuracy', iid=False, verbose=True)\n",
    "gs_post.fit(xtrain, ytrain)\n",
    "ypred_post = gs_post.predict(xval)\n",
    "\n",
    "print('train accuracy:', gs_post.score(xtrain, ytrain))\n",
    "print('validation set accuracy:', gs_post.score(xval, yval))\n",
    "print(gs_post.best_params_)"
   ]
  },
  {
   "cell_type": "code",
   "execution_count": 15,
   "metadata": {
    "ExecuteTime": {
     "end_time": "2019-10-23T15:43:41.576627Z",
     "start_time": "2019-10-23T15:43:41.565240Z"
    }
   },
   "outputs": [
    {
     "name": "stdout",
     "output_type": "stream",
     "text": [
      "Confusion matrix (post content as predictor):\n"
     ]
    },
    {
     "data": {
      "text/html": [
       "<div>\n",
       "<style scoped>\n",
       "    .dataframe tbody tr th:only-of-type {\n",
       "        vertical-align: middle;\n",
       "    }\n",
       "\n",
       "    .dataframe tbody tr th {\n",
       "        vertical-align: top;\n",
       "    }\n",
       "\n",
       "    .dataframe thead th {\n",
       "        text-align: right;\n",
       "    }\n",
       "</style>\n",
       "<table border=\"1\" class=\"dataframe\">\n",
       "  <thead>\n",
       "    <tr style=\"text-align: right;\">\n",
       "      <th></th>\n",
       "      <th>predicted r/sg</th>\n",
       "      <th>predicted r/msia</th>\n",
       "    </tr>\n",
       "  </thead>\n",
       "  <tbody>\n",
       "    <tr>\n",
       "      <td>actual r/sg</td>\n",
       "      <td>235</td>\n",
       "      <td>48</td>\n",
       "    </tr>\n",
       "    <tr>\n",
       "      <td>actual r/msia</td>\n",
       "      <td>187</td>\n",
       "      <td>89</td>\n",
       "    </tr>\n",
       "  </tbody>\n",
       "</table>\n",
       "</div>"
      ],
      "text/plain": [
       "               predicted r/sg  predicted r/msia\n",
       "actual r/sg               235                48\n",
       "actual r/msia             187                89"
      ]
     },
     "execution_count": 15,
     "metadata": {},
     "output_type": "execute_result"
    }
   ],
   "source": [
    "# print confusion matrix\n",
    "cmatrix = confusion_matrix(yval, ypred_post)\n",
    "print(\"Confusion matrix (post content as predictor):\")\n",
    "pd.DataFrame(cmatrix, \n",
    "             index = ['actual r/sg','actual r/msia'],\n",
    "             columns = ['predicted r/sg', 'predicted r/msia'])\n",
    "# tn, fp, \n",
    "# fn, tp"
   ]
  },
  {
   "cell_type": "markdown",
   "metadata": {},
   "source": [
    "### Title content and post lengths as predictors"
   ]
  },
  {
   "cell_type": "markdown",
   "metadata": {},
   "source": [
    "Due to the poor performance of using posts as a predictor, I decided to exclude it from further tests as it would just add unnecessary noise. In this model test I looked at title and post lengths as predictors of subreddits, adding post lengths as they are quite different between the two subreddits. The scores improved a little bit compared to just using title to predict. Looking at confusion matrix, most of the misclassifications are in the form of false positives, i.e. posts from r/Singapore being classified as r/Malaysia, same as when only title was used ([see above](#Title-content-as-predictor)).\n",
    "\n",
    "|No.|Predictor|Train accuracy|Validation accuracy|\n",
    "|--|--|--|--|\n",
    "|1|Baseline|0.507|0.507\n",
    "|2|Title|0.994|0.714|\n",
    "|3|Posts|0.674|0.580|\n",
    "|4|Title + post lengths|0.931|0.730|\n",
    "\n",
    "\n",
    "This was achieved using the following preprocessing steps and model (as shown in the best gridsearch parameters below). The gridsearch took 38.9 minutes.\n",
    "- using only words in less than 5% of the documents (with `CountVectorizer`)\n",
    "- classifying using mono-, bi- and tri-grams\n",
    "- normalising text lengths using `RobustScaler`\n",
    "- multinomial Naive Bayes model"
   ]
  },
  {
   "cell_type": "code",
   "execution_count": 17,
   "metadata": {
    "ExecuteTime": {
     "end_time": "2019-10-23T23:19:07.676495Z",
     "start_time": "2019-10-23T22:39:37.805094Z"
    },
    "scrolled": false
   },
   "outputs": [
    {
     "name": "stdout",
     "output_type": "stream",
     "text": [
      "Fitting 2 folds for each of 72 candidates, totalling 144 fits\n"
     ]
    },
    {
     "name": "stderr",
     "output_type": "stream",
     "text": [
      "[Parallel(n_jobs=1)]: Using backend SequentialBackend with 1 concurrent workers.\n",
      "[Parallel(n_jobs=1)]: Done 144 out of 144 | elapsed: 38.9min finished\n"
     ]
    },
    {
     "name": "stdout",
     "output_type": "stream",
     "text": [
      "train accuracy: 0.9308755760368663\n",
      "validation set accuracy: 0.7298747763864043\n",
      "{'classifier': MultinomialNB(alpha=1.0, class_prior=None, fit_prior=True), 'union__title__binarizer': None, 'union__title__reducer': None, 'union__title__vectorizer': CountVectorizer(analyzer='word', binary=False, decode_error='strict',\n",
      "                dtype=<class 'numpy.int64'>, encoding='utf-8', input='content',\n",
      "                lowercase=True, max_df=0.05, max_features=None, min_df=1,\n",
      "                ngram_range=(1, 3), preprocessor=None,\n",
      "                stop_words={'-pron-', 'a', 'about', 'above', 'after', 'again',\n",
      "                            'against', 'ain', 'all', 'am', 'an', 'and', 'any',\n",
      "                            'are', 'aren', \"aren't\", 'as', 'at', 'be',\n",
      "                            'because', 'been', 'before', 'being', 'below',\n",
      "                            'between', 'both', 'but', 'by', 'can', 'couldn', ...},\n",
      "                strip_accents=None, token_pattern='(?u)\\\\b\\\\w\\\\w+\\\\b',\n",
      "                tokenizer=<function spacy_tokenizer at 0x1a24381200>,\n",
      "                vocabulary=None), 'union__title__vectorizer__max_df': 0.05}\n"
     ]
    }
   ],
   "source": [
    "# create separate pipelines for text and numerical data\n",
    "title_pipeline = Pipeline([\n",
    "    ('selector', FunctionTransformer(lambda x:x['title'], validate=False)),\n",
    "    ('vectorizer', None),\n",
    "    ('reducer', None),\n",
    "    ('binarizer', None)\n",
    "])\n",
    "\n",
    "# numerical pipeline (for post lengths)\n",
    "post_len_pipeline = Pipeline([\n",
    "    ('selector', FunctionTransformer(lambda x:x[['text_len']], validate = False)),\n",
    "    ('scaler', RobustScaler())\n",
    "])\n",
    "\n",
    "# combine pipelines with FeatureUnion\n",
    "overall_pl = Pipeline([\n",
    "    ('union', FeatureUnion([('title',title_pipeline),\n",
    "                            ('post_len',post_len_pipeline)])),\n",
    "    ('classifier', None)])\n",
    "\n",
    "param_grid = [{\n",
    "        'union__title__vectorizer': [CountVectorizer(tokenizer = spacy_tokenizer,stop_words = stop_words, ngram_range = (1,3)),\n",
    "                                     TfidfVectorizer(tokenizer = spacy_tokenizer,stop_words = stop_words, ngram_range = (1,3))],\n",
    "        'union__title__vectorizer__max_df': [1, 0.05, 0.1],\n",
    "        'union__title__reducer': [None, \n",
    "                                  SelectPercentile(mutual_info_classif), \n",
    "                                  SelectPercentile(chi2)],\n",
    "        'union__title__binarizer': [None,\n",
    "                                    Binarizer()],\n",
    "        'classifier': [MultinomialNB(), LogisticRegression()]\n",
    "    }]\n",
    "\n",
    "gs_title_post = GridSearchCV(overall_pl, cv=kf, param_grid=param_grid, scoring = 'accuracy', iid=False, verbose=True)\n",
    "gs_title_post.fit(xtrain, ytrain)\n",
    "ypred_title_post = gs_title_post.predict(xval)\n",
    "\n",
    "print('train accuracy:', gs_title_post.score(xtrain, ytrain))\n",
    "print('validation set accuracy:', gs_title_post.score(xval, yval))\n",
    "print(gs_title_post.best_params_)"
   ]
  },
  {
   "cell_type": "code",
   "execution_count": 22,
   "metadata": {
    "ExecuteTime": {
     "end_time": "2019-10-23T23:29:56.419621Z",
     "start_time": "2019-10-23T23:29:56.407908Z"
    }
   },
   "outputs": [
    {
     "name": "stdout",
     "output_type": "stream",
     "text": [
      "Confusion matrix (title content and post lengths as predictor):\n"
     ]
    },
    {
     "data": {
      "text/html": [
       "<div>\n",
       "<style scoped>\n",
       "    .dataframe tbody tr th:only-of-type {\n",
       "        vertical-align: middle;\n",
       "    }\n",
       "\n",
       "    .dataframe tbody tr th {\n",
       "        vertical-align: top;\n",
       "    }\n",
       "\n",
       "    .dataframe thead th {\n",
       "        text-align: right;\n",
       "    }\n",
       "</style>\n",
       "<table border=\"1\" class=\"dataframe\">\n",
       "  <thead>\n",
       "    <tr style=\"text-align: right;\">\n",
       "      <th></th>\n",
       "      <th>predicted r/sg</th>\n",
       "      <th>predicted r/msia</th>\n",
       "    </tr>\n",
       "  </thead>\n",
       "  <tbody>\n",
       "    <tr>\n",
       "      <td>actual r/sg</td>\n",
       "      <td>181</td>\n",
       "      <td>102</td>\n",
       "    </tr>\n",
       "    <tr>\n",
       "      <td>actual r/msia</td>\n",
       "      <td>49</td>\n",
       "      <td>227</td>\n",
       "    </tr>\n",
       "  </tbody>\n",
       "</table>\n",
       "</div>"
      ],
      "text/plain": [
       "               predicted r/sg  predicted r/msia\n",
       "actual r/sg               181               102\n",
       "actual r/msia              49               227"
      ]
     },
     "execution_count": 22,
     "metadata": {},
     "output_type": "execute_result"
    }
   ],
   "source": [
    "# print confusion matrix\n",
    "cmatrix = confusion_matrix(yval, ypred_title_post)\n",
    "print(\"Confusion matrix (title content and post lengths as predictor):\")\n",
    "pd.DataFrame(cmatrix, \n",
    "             index = ['actual r/sg','actual r/msia'],\n",
    "             columns = ['predicted r/sg', 'predicted r/msia'])\n",
    "# tn, fp, \n",
    "# fn, tp"
   ]
  },
  {
   "cell_type": "markdown",
   "metadata": {},
   "source": [
    "### Excluding very short titles"
   ]
  },
  {
   "cell_type": "markdown",
   "metadata": {},
   "source": [
    "Using model 4 (the best performing model so far), I then validated it on a reduced dataset, which had all samples where title length is less than 5 words are removed. 1475 out of the original 1861 posts (79.3%) remained. \n",
    "\n",
    "I initially did not want to do this as title lengths are already fairly short, and short titles may still be informative. As expected, this made the model worse. However, the misclassifications for both classes are now fairly similar, and there is a reduced rate of false positives compared to the previous model. This shows that in the model above, short titles in r/Singapore may be the source of the misclassifications.\n",
    "\n",
    "|No.|Predictor|Train accuracy|Validation accuracy|\n",
    "|--|--|--|--|\n",
    "|1|Baseline|0.507|0.507\n",
    "|2|Title|0.994|0.714|\n",
    "|3|Posts|0.674|0.580|\n",
    "|4|Title + post lengths|0.931|0.730|\n",
    "|5|Title (>5 words) + post lengths| 0.930 | 0.688"
   ]
  },
  {
   "cell_type": "code",
   "execution_count": 52,
   "metadata": {
    "ExecuteTime": {
     "end_time": "2019-10-24T01:18:28.051089Z",
     "start_time": "2019-10-24T01:18:28.019492Z"
    }
   },
   "outputs": [
    {
     "name": "stdout",
     "output_type": "stream",
     "text": [
      "truncated df shape: (1475, 12)\n",
      "(1032, 11)\n",
      "(1032, 1)\n",
      "(443, 11)\n",
      "(443, 1)\n"
     ]
    }
   ],
   "source": [
    "df_long = df[df.title_len > 5]\n",
    "print(f'truncated df shape: {df_long.shape}')\n",
    "\n",
    "x_long = df_long[[col for col in df_long.columns if col != 'subreddit']]\n",
    "y_long = df_long[['subreddit']]\n",
    "\n",
    "xtrain_l, xval_1, ytrain_l, yval_1 = train_test_split(x_long, y_long, \n",
    "                                                        test_size = 0.3, \n",
    "                                                        random_state = 7, \n",
    "                                                        stratify = y_long)\n",
    "\n",
    "print(xtrain_l.shape)\n",
    "print(ytrain_l.shape)\n",
    "print(xval_1.shape)\n",
    "print(yval_1.shape)"
   ]
  },
  {
   "cell_type": "code",
   "execution_count": 53,
   "metadata": {
    "ExecuteTime": {
     "end_time": "2019-10-24T01:19:29.454112Z",
     "start_time": "2019-10-24T01:18:39.189131Z"
    },
    "scrolled": false
   },
   "outputs": [
    {
     "name": "stderr",
     "output_type": "stream",
     "text": [
      "[Parallel(n_jobs=1)]: Using backend SequentialBackend with 1 concurrent workers.\n",
      "[Parallel(n_jobs=1)]: Done   2 out of   2 | elapsed:   23.4s finished\n"
     ]
    },
    {
     "name": "stdout",
     "output_type": "stream",
     "text": [
      "cv score: 0.6734496124031009\n",
      "train accuracy: 0.9302325581395349\n",
      "test accuracy: 0.6884875846501128\n"
     ]
    }
   ],
   "source": [
    "'''\n",
    "Best model from above: using title and post lengths with these model parameters:\n",
    "- using only words in less than 5% of the documents (with CountVectorizer)\n",
    "- classifying using mono-, bi- and tri-grams\n",
    "- normalising text lengths using RobustScaler\n",
    "- multinomial Naive Bayes model\n",
    "\n",
    "'''\n",
    "# create separate pipelines\n",
    "title_pipeline = Pipeline([\n",
    "    ('selector', FunctionTransformer(lambda x:x['title'], validate=False)),\n",
    "    ('vectorizer', CountVectorizer(tokenizer = spacy_tokenizer, stop_words = stop_words, \n",
    "                                   ngram_range = (1,3), max_df = 0.05)),\n",
    "])\n",
    "\n",
    "post_len_pipeline = Pipeline([\n",
    "    ('selector', FunctionTransformer(lambda x:x[['text_len']], validate = False)),\n",
    "    ('scaler', RobustScaler())\n",
    "])\n",
    "\n",
    "short_titles_pl = Pipeline([\n",
    "    ('union', FeatureUnion([('title',title_pipeline),\n",
    "                            ('post_len',post_len_pipeline)])),\n",
    "    ('classifier', MultinomialNB())])\n",
    "\n",
    "cv = cross_val_score(short_titles_pl, xtrain_l, ytrain_l, cv = kf, verbose = True)\n",
    "\n",
    "print('cv score:',cv.mean())\n",
    "\n",
    "short_titles_pl.fit(xtrain_l, ytrain_l)\n",
    "print('train accuracy:', short_titles_pl.score(xtrain_l, ytrain_l))\n",
    "print('test accuracy:', short_titles_pl.score(xval_1, yval_1))"
   ]
  },
  {
   "cell_type": "code",
   "execution_count": 54,
   "metadata": {
    "ExecuteTime": {
     "end_time": "2019-10-24T01:19:36.851421Z",
     "start_time": "2019-10-24T01:19:32.171639Z"
    }
   },
   "outputs": [
    {
     "name": "stdout",
     "output_type": "stream",
     "text": [
      "Confusion matrix for excluding very short titles:\n"
     ]
    },
    {
     "data": {
      "text/html": [
       "<div>\n",
       "<style scoped>\n",
       "    .dataframe tbody tr th:only-of-type {\n",
       "        vertical-align: middle;\n",
       "    }\n",
       "\n",
       "    .dataframe tbody tr th {\n",
       "        vertical-align: top;\n",
       "    }\n",
       "\n",
       "    .dataframe thead th {\n",
       "        text-align: right;\n",
       "    }\n",
       "</style>\n",
       "<table border=\"1\" class=\"dataframe\">\n",
       "  <thead>\n",
       "    <tr style=\"text-align: right;\">\n",
       "      <th></th>\n",
       "      <th>predicted r/sg</th>\n",
       "      <th>predicted r/msia</th>\n",
       "    </tr>\n",
       "  </thead>\n",
       "  <tbody>\n",
       "    <tr>\n",
       "      <td>actual r/sg</td>\n",
       "      <td>159</td>\n",
       "      <td>65</td>\n",
       "    </tr>\n",
       "    <tr>\n",
       "      <td>actual r/msia</td>\n",
       "      <td>73</td>\n",
       "      <td>146</td>\n",
       "    </tr>\n",
       "  </tbody>\n",
       "</table>\n",
       "</div>"
      ],
      "text/plain": [
       "               predicted r/sg  predicted r/msia\n",
       "actual r/sg               159                65\n",
       "actual r/msia              73               146"
      ]
     },
     "execution_count": 54,
     "metadata": {},
     "output_type": "execute_result"
    }
   ],
   "source": [
    "# print confusion matrix\n",
    "ypred_1 = short_titles_pl.predict(xval_1)\n",
    "cmatrix = confusion_matrix(yval_1, ypred_1)\n",
    "print(\"Confusion matrix for excluding very short titles:\")\n",
    "pd.DataFrame(cmatrix, \n",
    "             index = ['actual r/sg','actual r/msia'],\n",
    "             columns = ['predicted r/sg', 'predicted r/msia'])\n",
    "# tn, fp, \n",
    "# fn, tp"
   ]
  },
  {
   "cell_type": "markdown",
   "metadata": {},
   "source": [
    "### Excluding very short titles in r/Singapore"
   ]
  },
  {
   "cell_type": "markdown",
   "metadata": {},
   "source": [
    "As the previous model showed that short titles in r/Singapore may be the source of the misclassifications, I then removed short titles _only from r/Singapore_ and tested model 4 again. When this did not improve the model, I increased the minimum title size even further to 10. This increased the model performance from the best performing model to 77.3%. Increasing the minimum word count to 15 increased the accuracy score even further, to 88% - the highest accuracy so far. However, looking at the distribution of title lengths in r/Singapore as shown below, the median post length is actually 10 words long. Therefore, by excluding entries where title lengths are below 10 words long effectively means that the size of the training data would be reduced by 25% (50% of the r/Singapore corpus), and the model would only be able to classify half of the posts that should belong to r/Singapore. \n",
    "\n",
    "What this shows instead is that model 4 will make more accurate predictions when trained and tested on longer titles. As this is not a realistic representation of reality, I decided to go with the original model 4 as a production model (using title and post lengths), in order to have a model that balances performance with generalisation.\n",
    "\n",
    "|No.|Predictor|Train accuracy|Validation accuracy|\n",
    "|--|--|--|--|\n",
    "|1|Baseline|0.507|0.507\n",
    "|2|Title|0.994|0.714|\n",
    "|3|Posts|0.674|0.580|\n",
    "|4|Title + post lengths|0.931|0.730|\n",
    "|5|Title (>5 words) + post lengths| 0.930 | 0.688\n",
    "|6|Title (>5 words in r/Singapore) + post lengths| 0.924 | 0.665\n",
    "|7|Title (>10 words in r/Singapore) + post lengths| 0.971 | 0.773\n",
    "|8|Title (>15 words in r/Singapore) + post lengths| 0.987 | 0.864"
   ]
  },
  {
   "cell_type": "code",
   "execution_count": 102,
   "metadata": {
    "ExecuteTime": {
     "end_time": "2019-10-24T02:24:32.279146Z",
     "start_time": "2019-10-24T02:24:32.240066Z"
    }
   },
   "outputs": [
    {
     "name": "stdout",
     "output_type": "stream",
     "text": [
      "truncated df shape: (1672, 12)\n",
      "(1170, 11)\n",
      "(1170, 1)\n",
      "(502, 11)\n",
      "(502, 1)\n"
     ]
    }
   ],
   "source": [
    "# extract titles with > 5 words where subreddit is r/Singapore\n",
    "df_long_sg = df[(df.title_len > 5) & (df.subreddit == 1)]\n",
    "# append all samples from r/Malaysia\n",
    "df_long_sg = df_long_sg.append(df[df.subreddit==0])\n",
    "print(f'truncated df shape: {df_long_sg.shape}')\n",
    "\n",
    "x_long_sg = df_long_sg[[col for col in df_long_sg.columns if col != 'subreddit']]\n",
    "y_long_sg = df_long_sg[['subreddit']]\n",
    "\n",
    "xtrain_2, xval_2, ytrain_2, yval_2 = train_test_split(x_long_sg, y_long_sg, \n",
    "                                                        test_size = 0.3, \n",
    "                                                        random_state = 7, \n",
    "                                                        stratify = y_long_sg)\n",
    "\n",
    "print(xtrain_2.shape)\n",
    "print(ytrain_2.shape)\n",
    "print(xval_2.shape)\n",
    "print(yval_2.shape)"
   ]
  },
  {
   "cell_type": "code",
   "execution_count": 103,
   "metadata": {
    "ExecuteTime": {
     "end_time": "2019-10-24T02:25:40.939433Z",
     "start_time": "2019-10-24T02:24:35.365165Z"
    },
    "scrolled": true
   },
   "outputs": [
    {
     "name": "stderr",
     "output_type": "stream",
     "text": [
      "[Parallel(n_jobs=1)]: Using backend SequentialBackend with 1 concurrent workers.\n",
      "[Parallel(n_jobs=1)]: Done   2 out of   2 | elapsed:   31.6s finished\n"
     ]
    },
    {
     "name": "stdout",
     "output_type": "stream",
     "text": [
      "cv score: 0.7051282051282051\n",
      "train accuracy: 0.923931623931624\n",
      "test accuracy: 0.6653386454183267\n"
     ]
    }
   ],
   "source": [
    "# create separate pipelines\n",
    "title_pipeline = Pipeline([\n",
    "    ('selector', FunctionTransformer(lambda x:x['title'], validate=False)),\n",
    "    ('vectorizer', CountVectorizer(tokenizer = spacy_tokenizer, stop_words = stop_words, \n",
    "                                   ngram_range = (1,3), max_df = 0.05)),\n",
    "])\n",
    "\n",
    "post_len_pipeline = Pipeline([\n",
    "    ('selector', FunctionTransformer(lambda x:x[['text_len']], validate = False)),\n",
    "    ('scaler', RobustScaler())\n",
    "])\n",
    "\n",
    "short_titles_pl = Pipeline([\n",
    "    ('union', FeatureUnion([('title',title_pipeline),\n",
    "                            ('post_len',post_len_pipeline)])),\n",
    "    ('classifier', MultinomialNB())])\n",
    "\n",
    "cv = cross_val_score(short_titles_pl, xtrain_2, ytrain_2, cv = kf, verbose = True)\n",
    "\n",
    "print('cv score:',cv.mean())\n",
    "\n",
    "short_titles_pl.fit(xtrain_2, ytrain_2)\n",
    "print('train accuracy:', short_titles_pl.score(xtrain_2, ytrain_2))\n",
    "print('test accuracy:', short_titles_pl.score(xval_2, yval_2))"
   ]
  },
  {
   "cell_type": "code",
   "execution_count": 105,
   "metadata": {
    "ExecuteTime": {
     "end_time": "2019-10-24T02:27:26.302479Z",
     "start_time": "2019-10-24T02:27:20.998176Z"
    }
   },
   "outputs": [
    {
     "name": "stdout",
     "output_type": "stream",
     "text": [
      "Confusion matrix for excluding titles < 5 words long:\n"
     ]
    },
    {
     "data": {
      "text/html": [
       "<div>\n",
       "<style scoped>\n",
       "    .dataframe tbody tr th:only-of-type {\n",
       "        vertical-align: middle;\n",
       "    }\n",
       "\n",
       "    .dataframe tbody tr th {\n",
       "        vertical-align: top;\n",
       "    }\n",
       "\n",
       "    .dataframe thead th {\n",
       "        text-align: right;\n",
       "    }\n",
       "</style>\n",
       "<table border=\"1\" class=\"dataframe\">\n",
       "  <thead>\n",
       "    <tr style=\"text-align: right;\">\n",
       "      <th></th>\n",
       "      <th>predicted r/sg</th>\n",
       "      <th>predicted r/msia</th>\n",
       "    </tr>\n",
       "  </thead>\n",
       "  <tbody>\n",
       "    <tr>\n",
       "      <td>actual r/sg</td>\n",
       "      <td>186</td>\n",
       "      <td>97</td>\n",
       "    </tr>\n",
       "    <tr>\n",
       "      <td>actual r/msia</td>\n",
       "      <td>71</td>\n",
       "      <td>148</td>\n",
       "    </tr>\n",
       "  </tbody>\n",
       "</table>\n",
       "</div>"
      ],
      "text/plain": [
       "               predicted r/sg  predicted r/msia\n",
       "actual r/sg               186                97\n",
       "actual r/msia              71               148"
      ]
     },
     "execution_count": 105,
     "metadata": {},
     "output_type": "execute_result"
    }
   ],
   "source": [
    "# print confusion matrix\n",
    "ypred_2 = short_titles_pl.predict(xval_2)\n",
    "cmatrix = confusion_matrix(yval_2, ypred_2)\n",
    "print(\"Confusion matrix for excluding titles < 5 words long:\")\n",
    "pd.DataFrame(cmatrix, \n",
    "             index = ['actual r/sg','actual r/msia'],\n",
    "             columns = ['predicted r/sg', 'predicted r/msia'])\n",
    "# tn, fp, \n",
    "# fn, tp"
   ]
  },
  {
   "cell_type": "code",
   "execution_count": 112,
   "metadata": {
    "ExecuteTime": {
     "end_time": "2019-10-24T02:36:05.647437Z",
     "start_time": "2019-10-24T02:36:05.599403Z"
    }
   },
   "outputs": [
    {
     "name": "stdout",
     "output_type": "stream",
     "text": [
      "truncated df shape: (1353, 12)\n",
      "(947, 11)\n",
      "(947, 1)\n",
      "(406, 11)\n",
      "(406, 1)\n"
     ]
    }
   ],
   "source": [
    "# extract titles with > 10 words where subreddit is r/Singapore\n",
    "df_long_sg = df[(df.title_len > 10) & (df.subreddit == 1)]\n",
    "# append all samples from r/Malaysia\n",
    "df_long_sg = df_long_sg.append(df[df.subreddit==0])\n",
    "print(f'truncated df shape: {df_long_sg.shape}')\n",
    "\n",
    "x_long_sg = df_long_sg[[col for col in df_long_sg.columns if col != 'subreddit']]\n",
    "y_long_sg = df_long_sg[['subreddit']]\n",
    "\n",
    "xtrain_2, xval_2, ytrain_2, yval_2 = train_test_split(x_long_sg, y_long_sg, \n",
    "                                                        test_size = 0.3, \n",
    "                                                        random_state = 7, \n",
    "                                                        stratify = y_long_sg)\n",
    "\n",
    "print(xtrain_2.shape)\n",
    "print(ytrain_2.shape)\n",
    "print(xval_2.shape)\n",
    "print(yval_2.shape)"
   ]
  },
  {
   "cell_type": "code",
   "execution_count": 113,
   "metadata": {
    "ExecuteTime": {
     "end_time": "2019-10-24T02:36:59.942275Z",
     "start_time": "2019-10-24T02:36:09.113392Z"
    },
    "scrolled": true
   },
   "outputs": [
    {
     "name": "stderr",
     "output_type": "stream",
     "text": [
      "[Parallel(n_jobs=1)]: Using backend SequentialBackend with 1 concurrent workers.\n",
      "[Parallel(n_jobs=1)]: Done   2 out of   2 | elapsed:   25.5s finished\n"
     ]
    },
    {
     "name": "stdout",
     "output_type": "stream",
     "text": [
      "cv score: 0.6779221416401281\n",
      "train accuracy: 0.9714889123548046\n",
      "test accuracy: 0.7733990147783252\n"
     ]
    }
   ],
   "source": [
    "# create separate pipelines\n",
    "title_pipeline = Pipeline([\n",
    "    ('selector', FunctionTransformer(lambda x:x['title'], validate=False)),\n",
    "    ('vectorizer', CountVectorizer(tokenizer = spacy_tokenizer, stop_words = stop_words, \n",
    "                                   ngram_range = (1,3), max_df = 0.05)),\n",
    "])\n",
    "\n",
    "post_len_pipeline = Pipeline([\n",
    "    ('selector', FunctionTransformer(lambda x:x[['text_len']], validate = False)),\n",
    "    ('scaler', RobustScaler())\n",
    "])\n",
    "\n",
    "short_titles_pl = Pipeline([\n",
    "    ('union', FeatureUnion([('title',title_pipeline),\n",
    "                            ('post_len',post_len_pipeline)])),\n",
    "    ('classifier', MultinomialNB())])\n",
    "\n",
    "cv = cross_val_score(short_titles_pl, xtrain_2, ytrain_2, cv = kf, verbose = True)\n",
    "\n",
    "print('cv score:',cv.mean())\n",
    "\n",
    "short_titles_pl.fit(xtrain_2, ytrain_2)\n",
    "print('train accuracy:', short_titles_pl.score(xtrain_2, ytrain_2))\n",
    "print('test accuracy:', short_titles_pl.score(xval_2, yval_2))"
   ]
  },
  {
   "cell_type": "code",
   "execution_count": 114,
   "metadata": {
    "ExecuteTime": {
     "end_time": "2019-10-24T02:37:06.970745Z",
     "start_time": "2019-10-24T02:37:03.117549Z"
    }
   },
   "outputs": [
    {
     "name": "stdout",
     "output_type": "stream",
     "text": [
      "Confusion matrix for excluding titles < 10 words long:\n"
     ]
    },
    {
     "data": {
      "text/html": [
       "<div>\n",
       "<style scoped>\n",
       "    .dataframe tbody tr th:only-of-type {\n",
       "        vertical-align: middle;\n",
       "    }\n",
       "\n",
       "    .dataframe tbody tr th {\n",
       "        vertical-align: top;\n",
       "    }\n",
       "\n",
       "    .dataframe thead th {\n",
       "        text-align: right;\n",
       "    }\n",
       "</style>\n",
       "<table border=\"1\" class=\"dataframe\">\n",
       "  <thead>\n",
       "    <tr style=\"text-align: right;\">\n",
       "      <th></th>\n",
       "      <th>predicted r/sg</th>\n",
       "      <th>predicted r/msia</th>\n",
       "    </tr>\n",
       "  </thead>\n",
       "  <tbody>\n",
       "    <tr>\n",
       "      <td>actual r/sg</td>\n",
       "      <td>242</td>\n",
       "      <td>41</td>\n",
       "    </tr>\n",
       "    <tr>\n",
       "      <td>actual r/msia</td>\n",
       "      <td>51</td>\n",
       "      <td>72</td>\n",
       "    </tr>\n",
       "  </tbody>\n",
       "</table>\n",
       "</div>"
      ],
      "text/plain": [
       "               predicted r/sg  predicted r/msia\n",
       "actual r/sg               242                41\n",
       "actual r/msia              51                72"
      ]
     },
     "execution_count": 114,
     "metadata": {},
     "output_type": "execute_result"
    }
   ],
   "source": [
    "# print confusion matrix\n",
    "ypred_2 = short_titles_pl.predict(xval_2)\n",
    "cmatrix = confusion_matrix(yval_2, ypred_2)\n",
    "print(\"Confusion matrix for excluding titles < 10 words long:\")\n",
    "pd.DataFrame(cmatrix, \n",
    "             index = ['actual r/sg','actual r/msia'],\n",
    "             columns = ['predicted r/sg', 'predicted r/msia'])\n",
    "# tn, fp, \n",
    "# fn, tp"
   ]
  },
  {
   "cell_type": "code",
   "execution_count": 115,
   "metadata": {
    "ExecuteTime": {
     "end_time": "2019-10-24T02:37:09.983801Z",
     "start_time": "2019-10-24T02:37:09.948800Z"
    }
   },
   "outputs": [
    {
     "name": "stdout",
     "output_type": "stream",
     "text": [
      "truncated df shape: (1077, 12)\n",
      "(753, 11)\n",
      "(753, 1)\n",
      "(324, 11)\n",
      "(324, 1)\n"
     ]
    }
   ],
   "source": [
    "# extract titles with > 15 words where subreddit is r/Singapore\n",
    "df_long_sg = df[(df.title_len > 15) & (df.subreddit == 1)]\n",
    "# append all samples from r/Malaysia\n",
    "df_long_sg = df_long_sg.append(df[df.subreddit==0])\n",
    "print(f'truncated df shape: {df_long_sg.shape}')\n",
    "\n",
    "x_long_sg = df_long_sg[[col for col in df_long_sg.columns if col != 'subreddit']]\n",
    "y_long_sg = df_long_sg[['subreddit']]\n",
    "\n",
    "xtrain_2, xval_2, ytrain_2, yval_2 = train_test_split(x_long_sg, y_long_sg, \n",
    "                                                        test_size = 0.3, \n",
    "                                                        random_state = 7, \n",
    "                                                        stratify = y_long_sg)\n",
    "\n",
    "print(xtrain_2.shape)\n",
    "print(ytrain_2.shape)\n",
    "print(xval_2.shape)\n",
    "print(yval_2.shape)"
   ]
  },
  {
   "cell_type": "code",
   "execution_count": 116,
   "metadata": {
    "ExecuteTime": {
     "end_time": "2019-10-24T02:37:53.037454Z",
     "start_time": "2019-10-24T02:37:13.080787Z"
    },
    "scrolled": true
   },
   "outputs": [
    {
     "name": "stderr",
     "output_type": "stream",
     "text": [
      "[Parallel(n_jobs=1)]: Using backend SequentialBackend with 1 concurrent workers.\n",
      "[Parallel(n_jobs=1)]: Done   2 out of   2 | elapsed:   19.1s finished\n"
     ]
    },
    {
     "name": "stdout",
     "output_type": "stream",
     "text": [
      "cv score: 0.8605522320672725\n",
      "train accuracy: 0.9867197875166003\n",
      "test accuracy: 0.8641975308641975\n"
     ]
    }
   ],
   "source": [
    "# create separate pipelines\n",
    "title_pipeline = Pipeline([\n",
    "    ('selector', FunctionTransformer(lambda x:x['title'], validate=False)),\n",
    "    ('vectorizer', CountVectorizer(tokenizer = spacy_tokenizer, stop_words = stop_words, \n",
    "                                   ngram_range = (1,3), max_df = 0.05)),\n",
    "])\n",
    "\n",
    "post_len_pipeline = Pipeline([\n",
    "    ('selector', FunctionTransformer(lambda x:x[['text_len']], validate = False)),\n",
    "    ('scaler', RobustScaler())\n",
    "])\n",
    "\n",
    "short_titles_pl = Pipeline([\n",
    "    ('union', FeatureUnion([('title',title_pipeline),\n",
    "                            ('post_len',post_len_pipeline)])),\n",
    "    ('classifier', MultinomialNB())])\n",
    "\n",
    "cv = cross_val_score(short_titles_pl, xtrain_2, ytrain_2, cv = kf, verbose = True)\n",
    "\n",
    "print('cv score:',cv.mean())\n",
    "\n",
    "short_titles_pl.fit(xtrain_2, ytrain_2)\n",
    "print('train accuracy:', short_titles_pl.score(xtrain_2, ytrain_2))\n",
    "print('test accuracy:', short_titles_pl.score(xval_2, yval_2))"
   ]
  },
  {
   "cell_type": "code",
   "execution_count": 117,
   "metadata": {
    "ExecuteTime": {
     "end_time": "2019-10-24T02:37:59.586412Z",
     "start_time": "2019-10-24T02:37:56.034940Z"
    }
   },
   "outputs": [
    {
     "name": "stdout",
     "output_type": "stream",
     "text": [
      "Confusion matrix for excluding titles < 10 words long:\n"
     ]
    },
    {
     "data": {
      "text/html": [
       "<div>\n",
       "<style scoped>\n",
       "    .dataframe tbody tr th:only-of-type {\n",
       "        vertical-align: middle;\n",
       "    }\n",
       "\n",
       "    .dataframe tbody tr th {\n",
       "        vertical-align: top;\n",
       "    }\n",
       "\n",
       "    .dataframe thead th {\n",
       "        text-align: right;\n",
       "    }\n",
       "</style>\n",
       "<table border=\"1\" class=\"dataframe\">\n",
       "  <thead>\n",
       "    <tr style=\"text-align: right;\">\n",
       "      <th></th>\n",
       "      <th>predicted r/sg</th>\n",
       "      <th>predicted r/msia</th>\n",
       "    </tr>\n",
       "  </thead>\n",
       "  <tbody>\n",
       "    <tr>\n",
       "      <td>actual r/sg</td>\n",
       "      <td>267</td>\n",
       "      <td>17</td>\n",
       "    </tr>\n",
       "    <tr>\n",
       "      <td>actual r/msia</td>\n",
       "      <td>27</td>\n",
       "      <td>13</td>\n",
       "    </tr>\n",
       "  </tbody>\n",
       "</table>\n",
       "</div>"
      ],
      "text/plain": [
       "               predicted r/sg  predicted r/msia\n",
       "actual r/sg               267                17\n",
       "actual r/msia              27                13"
      ]
     },
     "execution_count": 117,
     "metadata": {},
     "output_type": "execute_result"
    }
   ],
   "source": [
    "# print confusion matrix\n",
    "ypred_2 = short_titles_pl.predict(xval_2)\n",
    "cmatrix = confusion_matrix(yval_2, ypred_2)\n",
    "print(\"Confusion matrix for excluding titles < 10 words long:\")\n",
    "pd.DataFrame(cmatrix, \n",
    "             index = ['actual r/sg','actual r/msia'],\n",
    "             columns = ['predicted r/sg', 'predicted r/msia'])\n",
    "# tn, fp, \n",
    "# fn, tp"
   ]
  },
  {
   "cell_type": "code",
   "execution_count": 118,
   "metadata": {
    "ExecuteTime": {
     "end_time": "2019-10-24T02:38:27.616445Z",
     "start_time": "2019-10-24T02:38:27.603766Z"
    },
    "scrolled": true
   },
   "outputs": [
    {
     "data": {
      "text/plain": [
       "count    918.000000\n",
       "mean      10.442266\n",
       "std        5.954063\n",
       "min        1.000000\n",
       "25%        6.000000\n",
       "50%       10.000000\n",
       "75%       14.000000\n",
       "max       47.000000\n",
       "Name: title_len, dtype: float64"
      ]
     },
     "execution_count": 118,
     "metadata": {},
     "output_type": "execute_result"
    }
   ],
   "source": [
    "df[df.subreddit==1].title_len.describe()"
   ]
  },
  {
   "cell_type": "markdown",
   "metadata": {},
   "source": [
    "### Top predictor words"
   ]
  },
  {
   "cell_type": "markdown",
   "metadata": {},
   "source": [
    "The words with the highest probabilities of occurring in a given class from the best performing model (model 4) are shown below. The high degree of overlap between the top 50 words with the highest probabilities/predictive powers from the two subreddits (as shown in the venn diagram below) is likely the reason for the ~30% of posts that the model is unable to correctly classify."
   ]
  },
  {
   "cell_type": "code",
   "execution_count": 142,
   "metadata": {
    "ExecuteTime": {
     "end_time": "2019-10-24T03:29:27.387350Z",
     "start_time": "2019-10-24T03:29:13.868996Z"
    }
   },
   "outputs": [],
   "source": [
    "# instantiate vectoriser with same settings as model 4\n",
    "testvec = CountVectorizer(tokenizer = spacy_tokenizer, stop_words=stop_words,ngram_range = (1,3), max_df = 0.05)\n",
    "testvec.fit(xtrain['title'])\n",
    "\n",
    "# get list of words used for prediction\n",
    "words = testvec.get_feature_names()"
   ]
  },
  {
   "cell_type": "code",
   "execution_count": 178,
   "metadata": {
    "ExecuteTime": {
     "end_time": "2019-10-24T04:07:56.305078Z",
     "start_time": "2019-10-24T04:07:54.902270Z"
    }
   },
   "outputs": [
    {
     "data": {
      "image/png": "[encoded data removed]",
      "text/plain": [
       "<Figure size 576x21.6 with 1 Axes>"
      ]
     },
     "metadata": {
      "needs_background": "light"
     },
     "output_type": "display_data"
    },
    {
     "data": {
      "image/png": "[encoded data removed]",
      "text/plain": [
       "<Figure size 864x576 with 2 Axes>"
      ]
     },
     "metadata": {
      "needs_background": "light"
     },
     "output_type": "display_data"
    }
   ],
   "source": [
    "# getting the fitted classifer from model 4\n",
    "classifier = overall_pl.named_steps['classifier']\n",
    "\n",
    "# getting feature_log_prob_\n",
    "sg_prob = classifier.feature_log_prob_[1,:-1]   # minus one value at the end for post length\n",
    "ms_prob = classifier.feature_log_prob_[0,:-1]\n",
    "\n",
    "sg_prob = pd.DataFrame(sg_prob, index = words)\n",
    "ms_prob = pd.DataFrame(ms_prob, index = words)\n",
    "\n",
    "# sort by absolute values\n",
    "sg_prob = sg_prob[0].sort_values(ascending=False)\n",
    "ms_prob = ms_prob[0].sort_values(ascending=False)\n",
    "\n",
    "# plot title\n",
    "plt.figure(figsize=(8, 0.3))\n",
    "plt.text(x = 0.5,                              \n",
    "         y = 0.9,                             \n",
    "         s = '30 words with highest probabilities in each class', \n",
    "         ha = 'left',                        \n",
    "         va = 'center',                       \n",
    "         size = 20,                            \n",
    "         alpha = 0.8)                         \n",
    "plt.axis('off')\n",
    "\n",
    "# plot top 30 words\n",
    "fig, ax = plt.subplots(ncols=2, figsize=(12,8))\n",
    "\n",
    "sns.barplot(x = sg_prob.head(30), y=sg_prob.head(30).index, color='skyblue', ax = ax[0])\n",
    "ax[0].tick_params(axis='y',labelsize=13)\n",
    "ax[0].set_title('r/Singapore', fontsize=14)\n",
    "sns.barplot(x = ms_prob.head(30), y=ms_prob.head(30).index, color='skyblue', ax = ax[1])\n",
    "ax[1].tick_params(axis='y',labelsize=13)\n",
    "ax[1].set_title('r/Malaysia', fontsize=14)\n",
    "\n",
    "plt.tight_layout()"
   ]
  },
  {
   "cell_type": "code",
   "execution_count": 179,
   "metadata": {
    "ExecuteTime": {
     "end_time": "2019-10-24T04:09:31.596870Z",
     "start_time": "2019-10-24T04:09:28.717832Z"
    },
    "scrolled": false
   },
   "outputs": [
    {
     "data": {
      "image/png": "[encoded data removed]",
      "text/plain": [
       "<Figure size 576x21.6 with 1 Axes>"
      ]
     },
     "metadata": {
      "needs_background": "light"
     },
     "output_type": "display_data"
    },
    {
     "data": {
      "image/png": "[encoded data removed]",
      "text/plain": [
       "<Figure size 1008x432 with 2 Axes>"
      ]
     },
     "metadata": {
      "needs_background": "light"
     },
     "output_type": "display_data"
    }
   ],
   "source": [
    "# word cloud of the top 30 words\n",
    "wc_sg = WordCloud(max_words= 50, width = 1000, height = 800, background_color ='white',\n",
    "                  colormap='ocean').generate_from_frequencies(sg_prob.head(30)) \n",
    "\n",
    "wc_ms = WordCloud(max_words= 50, width = 1000, height = 800, background_color ='white',\n",
    "                  colormap='ocean').generate_from_frequencies(ms_prob.head(30)) \n",
    "\n",
    "plt.figure(figsize=(8, 0.3))\n",
    "plt.text(x = 0.35,                              \n",
    "         y = 0.9,                             \n",
    "         s = 'r/singapore                                       r/malaysia', \n",
    "         ha = 'left',                        \n",
    "         va = 'center',                       \n",
    "         size = 30)                         \n",
    "plt.axis('off')\n",
    "\n",
    "# plot the WordCloud image \n",
    "fig, ax = plt.subplots(nrows = 1, ncols = 2, figsize = (14, 6))\n",
    "ax[0].imshow(wc_sg)\n",
    "ax[0].axis('off')\n",
    "ax[1].imshow(wc_ms)\n",
    "ax[1].axis('off')\n",
    "plt.tight_layout()"
   ]
  },
  {
   "cell_type": "code",
   "execution_count": 184,
   "metadata": {
    "ExecuteTime": {
     "end_time": "2019-10-24T04:26:20.555409Z",
     "start_time": "2019-10-24T04:26:20.449728Z"
    }
   },
   "outputs": [
    {
     "data": {
      "image/png": "[encoded data removed]",
      "text/plain": [
       "<Figure size 432x288 with 1 Axes>"
      ]
     },
     "metadata": {},
     "output_type": "display_data"
    }
   ],
   "source": [
    "# venn diagram of top 50 words\n",
    "venn2([set(sg_prob.head(50).index), set(ms_prob.head(50).index)], set_labels = ('r/Singapore','r/Malaysia'))\n",
    "plt.title('top 50 words in title', fontsize=14)\n",
    "plt.tight_layout()"
   ]
  },
  {
   "cell_type": "markdown",
   "metadata": {},
   "source": [
    "## Production model evaluation\n",
    "---"
   ]
  },
  {
   "cell_type": "markdown",
   "metadata": {},
   "source": [
    "The [final production model from above](#Title-content-and-post-lengths-as-predictors) was evaluated on an unseen set of test data, which had 328 rows. The final test accuracy score was **0.713** - about 70% of predictions were correct."
   ]
  },
  {
   "cell_type": "code",
   "execution_count": 123,
   "metadata": {
    "ExecuteTime": {
     "end_time": "2019-10-24T02:58:29.999305Z",
     "start_time": "2019-10-24T02:58:29.918236Z"
    }
   },
   "outputs": [
    {
     "name": "stdout",
     "output_type": "stream",
     "text": [
      "original test df shape: (328, 12)\n"
     ]
    }
   ],
   "source": [
    "# import test data\n",
    "df_test = pd.read_csv('../data/combined_test.csv', index_col = 0)\n",
    "print('original test df shape:', df_test.shape)\n",
    "\n",
    "# set x and y variables\n",
    "x_test = df_test[[col for col in df_test.columns if col != 'subreddit']]\n",
    "y_test = df_test[['subreddit']]"
   ]
  },
  {
   "cell_type": "code",
   "execution_count": 124,
   "metadata": {
    "ExecuteTime": {
     "end_time": "2019-10-24T02:59:06.173512Z",
     "start_time": "2019-10-24T02:58:49.297039Z"
    }
   },
   "outputs": [
    {
     "name": "stdout",
     "output_type": "stream",
     "text": [
      "production model accuracy: 0.7134146341463414\n"
     ]
    }
   ],
   "source": [
    "'''\n",
    "Best performing model: using title and post lengths with these model parameters:\n",
    "- using only words in less than 5% of the documents (with CountVectorizer)\n",
    "- classifying using mono-, bi- and tri-grams\n",
    "- normalising text lengths using RobustScaler\n",
    "- multinomial Naive Bayes model\n",
    "\n",
    "'''\n",
    "# create separate pipelines\n",
    "title_pipeline = Pipeline([\n",
    "    ('selector', FunctionTransformer(lambda x:x['title'], validate=False)),\n",
    "    ('vectorizer', CountVectorizer(tokenizer = spacy_tokenizer, \n",
    "                                   stop_words = stop_words, \n",
    "                                   ngram_range = (1,3), \n",
    "                                   max_df = 0.05)),\n",
    "])\n",
    "\n",
    "post_len_pipeline = Pipeline([\n",
    "    ('selector', FunctionTransformer(lambda x:x[['text_len']], validate = False)),\n",
    "    ('scaler', RobustScaler())\n",
    "])\n",
    "\n",
    "overall_pl = Pipeline([\n",
    "    ('union', FeatureUnion([('title',title_pipeline),\n",
    "                            ('post_len',post_len_pipeline)])),\n",
    "    ('classifier', MultinomialNB())])\n",
    "\n",
    "overall_pl.fit(xtrain, ytrain)\n",
    "print('production model accuracy:', overall_pl.score(x_test, y_test))"
   ]
  },
  {
   "cell_type": "markdown",
   "metadata": {},
   "source": [
    "### Graph of model results"
   ]
  },
  {
   "cell_type": "code",
   "execution_count": 217,
   "metadata": {
    "ExecuteTime": {
     "end_time": "2019-10-24T06:32:42.396195Z",
     "start_time": "2019-10-24T06:32:41.785162Z"
    }
   },
   "outputs": [
    {
     "data": {
      "image/png": "[encoded data removed]",
      "text/plain": [
       "<Figure size 720x504 with 2 Axes>"
      ]
     },
     "metadata": {
      "needs_background": "light"
     },
     "output_type": "display_data"
    }
   ],
   "source": [
    "# put accuracy scores of different models into dataframe\n",
    "model_results = pd.DataFrame([[0.507,0.994,0.674,0.931,0.930, 0.924,0.971,0.987],\n",
    "                              [0.507,0.714,0.580,0.730,0.688, 0.665,0.773,0.864]],\n",
    "                            index = ['train_accuracy','val_accuracy'],\n",
    "                            columns = ['baseline',\n",
    "                                       'title',\n",
    "                                       'post',\n",
    "                                       'title + post lengths',\n",
    "                                       'title (>5 words) + post lengths',\n",
    "                                       'title (>5 words in r/Singapore) + post lengths',\n",
    "                                       'title (>10 words in r/Singapore) + post lengths',\n",
    "                                       'title (>15 words in r/Singapore) + post lengths']).T\n",
    "\n",
    "# plot results\n",
    "fig, ax = plt.subplots(nrows = 2, figsize=(10,7), sharex = True, gridspec_kw={'height_ratios': [6, 1]})\n",
    "\n",
    "sns.barplot(y = model_results.index, x = model_results.val_accuracy, color='skyblue',orient='h', ax = ax[0])\n",
    "ax[0].tick_params(axis='x', labelsize=12)\n",
    "ax[0].tick_params(axis='y', labelsize=14)\n",
    "ax[0].set_xlim(0,1)\n",
    "ax[0].set_title('validation set accuracies of preliminary models', fontsize = 15)\n",
    "# label with accuracy values\n",
    "for index, val in enumerate([0.507,0.714,0.580,0.730,0.688, 0.665,0.773,0.864]):\n",
    "    ax[0].text(val+0.01, index, str(val), fontweight='bold', fontsize=13)\n",
    "ax[0].axvline(x=0.507,linestyle='dotted',color='red',label='baseline accuracy')\n",
    "ax[0].legend(loc='upper right',facecolor='white',fontsize=11)\n",
    "ax[0].set_xlabel('')\n",
    "\n",
    "sns.barplot(x = 0.713, y = ['title + post lengths'], color='orange',orient='h',ax=ax[1])\n",
    "ax[1].set_title('test accuracy of production model', fontsize=14)\n",
    "ax[1].tick_params(axis='y', labelsize=14)\n",
    "# label with accuracy value\n",
    "ax[1].text(0.713+0.01, 0, str(0.713), fontweight='bold', fontsize=13)\n",
    "ax[1].axvline(x=0.507,linestyle='dotted',color='red',label='baseline accuracy')\n",
    "ax[1].set_xlabel('accuracy', fontsize = 14)\n",
    "\n",
    "plt.tight_layout()"
   ]
  },
  {
   "cell_type": "markdown",
   "metadata": {},
   "source": [
    "## Conclusion and recommendations"
   ]
  },
  {
   "cell_type": "markdown",
   "metadata": {},
   "source": [
    "Using a multinomial naive Bayes classifier trained on title content and post lengths, I was able to classify an unlabelled post into r/Singapore or r/Malaysia with a reasonable accuracy of **71%** - showing that although Malaysia and Singapore are fairly different, they still share some similarities. The differences may mainly be due to differences in current affairs in Singapore and Malaysia. Looking at the posts from both subreddits, they seem to be a rough reflection of the state of current affairs in both countries, with discussions centered around current news topics such as Malaysia's Budget 2020, the crimes commited by Singapore NUS students, etc. It is therefore not surprising that the two subreddits are somewhat distinguishable from each other, as the current affair topics in different countries will undoubtedly be different. The similarities behind the model misclassifications may be due to more generic, day-to-day topics such as people asking for help or life advice, which are likely to be similar between the two countries.\n",
    "\n",
    "To further improve model accuracy, a bigger corpus that incorporates a bigger vocabulary on the current affairs in Singapore and Malaysia is needed. As news are constantly changing, new words are also constantly emerging in these subreddits (for example, personal mobility devices or PMDs wouldn't be discussed five years ago). Therefore, it would not be enough to train the model on/obtain the training corpus from _past_ subreddit posts. A more useful corpus for model training would be english new sites that report on both Singapore and Malaysia, such Channel News Asia.\n",
    "\n",
    "As mentioned previously, although the goal of this project is to classify subreddits, such a classification model can also be applied elsewhere, such as to automate CRM tasks based on topic matching, recommending similar articles to readers, and the ever-useful spam email filtering.\n",
    "\n",
    "Areas for expansion and future exploration:\n",
    "- use word similarities (e.g. word2vec) to classify posts instead of frequency\n",
    "- use latent dirichlet allocation to first extract topics from words before classifying (as a dimension reduction technique)\n",
    "- explore stability selection ([Meinshausen and Bühlmann, 2008](https://stat.ethz.ch/~nicolai/stability.pdf)) and TruncatedSVD for dimension reduction\n",
    "- try SVM for classification\n",
    "- explore relationship between post content, number of comments, and upvote ratio"
   ]
  }
 ],
 "metadata": {
  "kernelspec": {
   "display_name": "Python 3",
   "language": "python",
   "name": "python3"
  },
  "language_info": {
   "codemirror_mode": {
    "name": "ipython",
    "version": 3
   },
   "file_extension": ".py",
   "mimetype": "text/x-python",
   "name": "python",
   "nbconvert_exporter": "python",
   "pygments_lexer": "ipython3",
   "version": "3.7.4"
  },
  "toc": {
   "base_numbering": 1,
   "nav_menu": {},
   "number_sections": true,
   "sideBar": true,
   "skip_h1_title": true,
   "title_cell": "Table of Contents",
   "title_sidebar": "Contents",
   "toc_cell": false,
   "toc_position": {
    "height": "calc(100% - 180px)",
    "left": "10px",
    "top": "150px",
    "width": "285px"
   },
   "toc_section_display": true,
   "toc_window_display": true
  },
  "varInspector": {
   "cols": {
    "lenName": 16,
    "lenType": 16,
    "lenVar": 40
   },
   "kernels_config": {
    "python": {
     "delete_cmd_postfix": "",
     "delete_cmd_prefix": "del ",
     "library": "var_list.py",
     "varRefreshCmd": "print(var_dic_list())"
    },
    "r": {
     "delete_cmd_postfix": ") ",
     "delete_cmd_prefix": "rm(",
     "library": "var_list.r",
     "varRefreshCmd": "cat(var_dic_list()) "
    }
   },
   "position": {
    "height": "414.85px",
    "left": "1071px",
    "right": "20px",
    "top": "120px",
    "width": "349px"
   },
   "types_to_exclude": [
    "module",
    "function",
    "builtin_function_or_method",
    "instance",
    "_Feature"
   ],
   "window_display": false
  }
 },
 "nbformat": 4,
 "nbformat_minor": 2
}
